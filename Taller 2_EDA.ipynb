{
 "cells": [
  {
   "cell_type": "markdown",
   "metadata": {},
   "source": [
    "## Taller 2: Analisis Exploratorio BD Pruebas SABER TYT\n",
    "\n",
    "### Estudiantes:\n",
    "- JAIME HUMBERTO ARISMENDI MUNOZ\n",
    "- BEYCKER ALEXIS AGREDO MOSQUERA\n",
    "- NICOLAS OROZCO ECHEVERRI"
   ]
  },
  {
   "cell_type": "markdown",
   "metadata": {},
   "source": [
    "### Contexto del Ejercicio:\n",
    "Usted trabaja en el departamento de estadísticas e información institucional de la Institución Educando Líderes, la cual ofrece programas de nivel técnico profesional y tecnológico. Se le ha encomendado la misión de analizar los resultados de la Prueba Saber TyT (es la prueba homóloga al Saber Pro, pero aplicada en técnico y tecnológico). Para ello, se le entrega una base de datos que proviene del Icfes (la del periodo 2016)\n",
    "\n",
    "Su misión entonces es entregar un informe sobre la calidad y la preparación de los datos, de tal manera que el análisis de los resultados pueda llevarse a cabo en una segunda etapa. Si existen anomalías, la idea es que a partir de dicho informe, se construya un derecho de petición al Icfes para informar sobre las anomalías y solicitar información que permita dar solución a los problemas.\n",
    "\n",
    "Variables a tener en cuenta:\n",
    "| **Variables**    |\n",
    "|:------------:|\n",
    "| Edad  | \n",
    "| Género|\n",
    "| Étnia | \n",
    "| Discapacidad| \n",
    "| Índice Socioeconómico| \n",
    "| Nacionalidad| \n",
    "| Puntajes | \n",
    "\n",
    "#### Recomendaciones del ejercicio:\n",
    "Tenga en cuenta las siguientes recomendaciones:\n",
    "\n",
    "1. En la columna \"ESTU_ESTADO\" se especifica si el resultado está listo para ser publicado (\"PUBLICAR\") o si el resultado está en revisión (\"VALIDEZ OFICINA JURÍDICA\"). Solo interesa trabajar con los que están listos para publicarse.\n",
    "\n",
    "2. Para este estudio, solo interesan los estudiantes de nacionalidad colombiana.\n",
    "\n",
    "3. Los niveles de inglés, según el Icfes, son A1-, A1, A2, B1 y B2, en dicho orden (de izquierda a derecha aumenta el nivel de desempeño).\n",
    "\n",
    "#### **Preguntas**: \n",
    "1. Analizar el caso y revisar el diccionario de variables. El entregable aquí es que en sus palabras expresen cuál es el objetivo del proyecto de analítica.\n",
    "\n",
    "2. Cargar la base de datos correctamente (revisar tildes, caracteres especiales y espacios en blanco deben quedar con NA).\n",
    "\n",
    "3. Realizar las modificaciones a la base de datos que se requieran.\n",
    "\n",
    "4. Revisar la columna **fecha de nacimiento** (¿qué encontró?). **Calcular la edad** al momento de tomar la prueba (09 de octubre de 2016).\n",
    "\n",
    "5. Revisar la variable **nivel de inglés** (¿qué encontró?). Además, según el Ministerio de Educación Nacional, una institución de educación superior tiene la meta de llevar a sus estudiantes a nivel B1 o B2. Se necesita entonces una **nueva columna** que identifique si el estudiante cumplió o no esta condición.\n",
    "\n",
    "6. Revisar las columnas sobre **étnia** (¿qué encontró?)\n",
    "\n",
    "7. Revisar las columnas sobre **discapacidad** (¿qué encontró?)\n",
    "\n",
    "8. Revisar las columnas de **puntajes**, solo los puntajes (¿qué encontró?)"
   ]
  },
  {
   "cell_type": "code",
   "execution_count": 84,
   "metadata": {},
   "outputs": [],
   "source": [
    "import pandas as pd\n",
    "import numpy as np\n",
    "import matplotlib.pyplot as plt \n",
    "import matplotlib.ticker as mtick  \n",
    "import seaborn as sns "
   ]
  },
  {
   "cell_type": "code",
   "execution_count": 85,
   "metadata": {},
   "outputs": [
    {
     "name": "stderr",
     "output_type": "stream",
     "text": [
      "C:\\Users\\Usuario\\AppData\\Local\\Temp\\ipykernel_17428\\2435392839.py:1: DtypeWarning: Columns (11,12,14,61) have mixed types. Specify dtype option on import or set low_memory=False.\n",
      "  data = pd.read_csv(\"SABERTYT20162.csv\", encoding='latin-1',sep=';')\n"
     ]
    },
    {
     "data": {
      "text/plain": [
       "(53040, 104)"
      ]
     },
     "execution_count": 85,
     "metadata": {},
     "output_type": "execute_result"
    }
   ],
   "source": [
    "data = pd.read_csv(\"SABERTYT20162.csv\", encoding='latin-1',sep=';')\n",
    "data.shape"
   ]
  },
  {
   "cell_type": "markdown",
   "metadata": {},
   "source": [
    "#### Recomendación 1 y 2:\n",
    "En la columna \"ESTU_ESTADO\" se especifica si el resultado está listo para ser publicado (\"PUBLICAR\") o si el resultado está en revisión (\"VALIDEZ OFICINA JURÍDICA\"). Solo interesa trabajar con los que están listos para publicarse.\n",
    "\n",
    "Para este estudio, solo interesan los estudiantes de nacionalidad colombiana.:\n",
    "\n",
    "*Desarrollo:*"
   ]
  },
  {
   "cell_type": "code",
   "execution_count": 86,
   "metadata": {},
   "outputs": [],
   "source": [
    "## Generación de una clase para filtrar la base de datos según las especificaciones:\n",
    "class FiltrarBD_Saber:\n",
    "    @staticmethod\n",
    "    def Publicar(data):\n",
    "        return data[data[\"ESTU_ESTADO\"] == 'PUBLICAR']\n",
    "    \n",
    "    @staticmethod\n",
    "    def Nacionalidad(data):\n",
    "        return data[data[\"ESTU_NACIONALIDAD\"] == '1 COLOMBIA']"
   ]
  },
  {
   "cell_type": "code",
   "execution_count": 87,
   "metadata": {},
   "outputs": [],
   "source": [
    "def Clean_Missing(col):\n",
    "    data_final[col] = data_final[col].fillna(\"NO\")\n",
    "    data_final[col] = data_final[col].replace(\"x\",\"SI\")\n",
    "    return data_final[col]\n",
    "    \n",
    "def Table_desc(data, columna):\n",
    "    tabla_abs = pd.crosstab(data[columna], columns=\"Freq. Abs\").reset_index().sort_values(by=\"Freq. Abs\", ascending= False)\n",
    "    tabla_abs[\"Freq. Rel\"] = tabla_abs[\"Freq. Abs\"]/sum(tabla_abs[\"Freq. Abs\"])*100\n",
    "    return tabla_abs"
   ]
  },
  {
   "cell_type": "code",
   "execution_count": 88,
   "metadata": {},
   "outputs": [
    {
     "data": {
      "text/plain": [
       "(53040, 18)"
      ]
     },
     "execution_count": 88,
     "metadata": {},
     "output_type": "execute_result"
    }
   ],
   "source": [
    "## Selección de las columnas de interés para el ejercicio:\n",
    "data_final = data[[\"ESTU_GENERO\",\"ESTU_NACIONALIDAD\",\"ESTU_ESTADO\",                   \n",
    "                           \"ESTU_FECHANACIMIENTO\",\n",
    "                           \"ESTU_TIENE_ETNIA\",\n",
    "                           \"ESTU_ETNIA\",\n",
    "                           \"ESTU_LIMITA_MOTRIZ\",\n",
    "                           \"ESTU_LIMITA_INVIDENTE\",\n",
    "                           \"ESTU_LIMITA_CONDICIONESPECIAL\",\n",
    "                           \"ESTU_LIMITA_SORDO\",\n",
    "                           \"ESTU_LIMITA_AUTISMO\",\n",
    "                           \"NSE\",\n",
    "                           \"MOD_RAZONA_CUANTITAT_PUNT\",\n",
    "                           \"MOD_LECTURA_CRITICA_PUNT\",\n",
    "                           \"MOD_COMPETEN_CIUDADA_PUNT\",\n",
    "                           \"MOD_INGLES_PUNT\",\n",
    "                           \"MOD_INGLES_DESEM\",\n",
    "                           \"MOD_COMUNI_ESCRITA_PUNT\"]]\n",
    "data_final.shape"
   ]
  },
  {
   "cell_type": "code",
   "execution_count": 89,
   "metadata": {},
   "outputs": [
    {
     "data": {
      "text/plain": [
       "ESTU_NACIONALIDAD\n",
       "1 COLOMBIA    52665\n",
       "Name: count, dtype: int64"
      ]
     },
     "execution_count": 89,
     "metadata": {},
     "output_type": "execute_result"
    }
   ],
   "source": [
    "## Aplicación de las funciones de la clase 'FiltrarBD_Saber', esto a través de .pipe\n",
    "data_final = data_final.pipe(FiltrarBD_Saber.Publicar).pipe(FiltrarBD_Saber.Nacionalidad)\n",
    "data_final[\"ESTU_NACIONALIDAD\"].value_counts()"
   ]
  },
  {
   "cell_type": "markdown",
   "metadata": {},
   "source": [
    "#### Recomendación 3\n",
    "Los niveles de inglés, según el Icfes, son A1-, A1, A2, B1 y B2, en dicho orden (de izquierda a derecha aumenta el nivel de desempeño)."
   ]
  },
  {
   "cell_type": "code",
   "execution_count": 90,
   "metadata": {},
   "outputs": [
    {
     "data": {
      "text/plain": [
       "array(['A2', 'B1', 'A1', 'A1-', 'B2'], dtype=object)"
      ]
     },
     "execution_count": 90,
     "metadata": {},
     "output_type": "execute_result"
    }
   ],
   "source": [
    "data_final[\"MOD_INGLES_DESEM\"].unique()"
   ]
  },
  {
   "cell_type": "markdown",
   "metadata": {},
   "source": [
    "### Base de datos final:\n",
    "\n",
    "En este momento obtuvimos la base de datos filtrada por las recomendaciones de los puntos 1 y 2; adicionalmente seleccionamos únicamente las columnas de interes para nuestro analisis, por lo cual reducimos la dimensión de la base de datos de tener 104 columnas a aproximadamente 18. Las cuales son las siguientes:\n",
    "\n",
    "```\n",
    "       ['ESTU_GENERO', 'ESTU_NACIONALIDAD', 'ESTU_ESTADO','ESTU_FECHANACIMIENTO', 'ESTU_TIENE_ETNIA', 'ESTU_ETNIA',\n",
    "       'ESTU_LIMITA_MOTRIZ', 'ESTU_LIMITA_INVIDENTE','ESTU_LIMITA_CONDICIONESPECIAL', 'ESTU_LIMITA_SORDO',\n",
    "       'ESTU_LIMITA_AUTISMO', 'NSE', 'MOD_RAZONA_CUANTITAT_PUNT','MOD_LECTURA_CRITICA_PUNT', 'MOD_COMPETEN_CIUDADA_PUNT',\n",
    "       'MOD_INGLES_PUNT', 'MOD_INGLES_DESEM', 'MOD_COMUNI_ESCRITA_PUNT']\n",
    "```"
   ]
  },
  {
   "cell_type": "code",
   "execution_count": 91,
   "metadata": {},
   "outputs": [
    {
     "data": {
      "text/plain": [
       "Index(['ESTU_GENERO', 'ESTU_NACIONALIDAD', 'ESTU_ESTADO',\n",
       "       'ESTU_FECHANACIMIENTO', 'ESTU_TIENE_ETNIA', 'ESTU_ETNIA',\n",
       "       'ESTU_LIMITA_MOTRIZ', 'ESTU_LIMITA_INVIDENTE',\n",
       "       'ESTU_LIMITA_CONDICIONESPECIAL', 'ESTU_LIMITA_SORDO',\n",
       "       'ESTU_LIMITA_AUTISMO', 'NSE', 'MOD_RAZONA_CUANTITAT_PUNT',\n",
       "       'MOD_LECTURA_CRITICA_PUNT', 'MOD_COMPETEN_CIUDADA_PUNT',\n",
       "       'MOD_INGLES_PUNT', 'MOD_INGLES_DESEM', 'MOD_COMUNI_ESCRITA_PUNT'],\n",
       "      dtype='object')"
      ]
     },
     "execution_count": 91,
     "metadata": {},
     "output_type": "execute_result"
    }
   ],
   "source": [
    "data_final.columns"
   ]
  },
  {
   "cell_type": "code",
   "execution_count": 92,
   "metadata": {},
   "outputs": [
    {
     "name": "stdout",
     "output_type": "stream",
     "text": [
      "<class 'pandas.core.frame.DataFrame'>\n",
      "Index: 52665 entries, 0 to 53039\n",
      "Data columns (total 18 columns):\n",
      " #   Column                         Non-Null Count  Dtype  \n",
      "---  ------                         --------------  -----  \n",
      " 0   ESTU_GENERO                    52663 non-null  object \n",
      " 1   ESTU_NACIONALIDAD              52665 non-null  object \n",
      " 2   ESTU_ESTADO                    52665 non-null  object \n",
      " 3   ESTU_FECHANACIMIENTO           52664 non-null  object \n",
      " 4   ESTU_TIENE_ETNIA               48374 non-null  object \n",
      " 5   ESTU_ETNIA                     3086 non-null   object \n",
      " 6   ESTU_LIMITA_MOTRIZ             46 non-null     object \n",
      " 7   ESTU_LIMITA_INVIDENTE          4 non-null      object \n",
      " 8   ESTU_LIMITA_CONDICIONESPECIAL  7 non-null      object \n",
      " 9   ESTU_LIMITA_SORDO              29 non-null     object \n",
      " 10  ESTU_LIMITA_AUTISMO            3 non-null      object \n",
      " 11  NSE                            51912 non-null  object \n",
      " 12  MOD_RAZONA_CUANTITAT_PUNT      52665 non-null  int64  \n",
      " 13  MOD_LECTURA_CRITICA_PUNT       52665 non-null  int64  \n",
      " 14  MOD_COMPETEN_CIUDADA_PUNT      52665 non-null  int64  \n",
      " 15  MOD_INGLES_PUNT                52665 non-null  int64  \n",
      " 16  MOD_INGLES_DESEM               52665 non-null  object \n",
      " 17  MOD_COMUNI_ESCRITA_PUNT        51895 non-null  float64\n",
      "dtypes: float64(1), int64(4), object(13)\n",
      "memory usage: 7.6+ MB\n"
     ]
    }
   ],
   "source": [
    "data_final.info()"
   ]
  },
  {
   "cell_type": "markdown",
   "metadata": {},
   "source": [
    "#### Variables con Missing Data:\n",
    "\n",
    "Podemos observar que la mayor cantidad de variables con **datos faltantes** son aquellas relacionadas con las limitaciones físicas de los estudiantes y la etnia, lo que probablemente se relaciona con la **AUSENCIA** de dicha característica, por lo cual para omitir dicho missing, se llenaran dichos valores con un valor de **\"NO\"** para especificar la negatividad a dicho valor."
   ]
  },
  {
   "cell_type": "code",
   "execution_count": 93,
   "metadata": {},
   "outputs": [
    {
     "data": {
      "text/html": [
       "<div>\n",
       "<style scoped>\n",
       "    .dataframe tbody tr th:only-of-type {\n",
       "        vertical-align: middle;\n",
       "    }\n",
       "\n",
       "    .dataframe tbody tr th {\n",
       "        vertical-align: top;\n",
       "    }\n",
       "\n",
       "    .dataframe thead th {\n",
       "        text-align: right;\n",
       "    }\n",
       "</style>\n",
       "<table border=\"1\" class=\"dataframe\">\n",
       "  <thead>\n",
       "    <tr style=\"text-align: right;\">\n",
       "      <th></th>\n",
       "      <th>Variable</th>\n",
       "      <th>Missing</th>\n",
       "    </tr>\n",
       "  </thead>\n",
       "  <tbody>\n",
       "    <tr>\n",
       "      <th>0</th>\n",
       "      <td>ESTU_LIMITA_AUTISMO</td>\n",
       "      <td>99.994304</td>\n",
       "    </tr>\n",
       "    <tr>\n",
       "      <th>1</th>\n",
       "      <td>ESTU_LIMITA_INVIDENTE</td>\n",
       "      <td>99.992405</td>\n",
       "    </tr>\n",
       "    <tr>\n",
       "      <th>2</th>\n",
       "      <td>ESTU_LIMITA_CONDICIONESPECIAL</td>\n",
       "      <td>99.986708</td>\n",
       "    </tr>\n",
       "    <tr>\n",
       "      <th>3</th>\n",
       "      <td>ESTU_LIMITA_SORDO</td>\n",
       "      <td>99.944935</td>\n",
       "    </tr>\n",
       "    <tr>\n",
       "      <th>4</th>\n",
       "      <td>ESTU_LIMITA_MOTRIZ</td>\n",
       "      <td>99.912655</td>\n",
       "    </tr>\n",
       "    <tr>\n",
       "      <th>5</th>\n",
       "      <td>ESTU_ETNIA</td>\n",
       "      <td>94.140321</td>\n",
       "    </tr>\n",
       "    <tr>\n",
       "      <th>6</th>\n",
       "      <td>ESTU_TIENE_ETNIA</td>\n",
       "      <td>8.147726</td>\n",
       "    </tr>\n",
       "    <tr>\n",
       "      <th>7</th>\n",
       "      <td>MOD_COMUNI_ESCRITA_PUNT</td>\n",
       "      <td>1.462072</td>\n",
       "    </tr>\n",
       "    <tr>\n",
       "      <th>8</th>\n",
       "      <td>NSE</td>\n",
       "      <td>1.429792</td>\n",
       "    </tr>\n",
       "    <tr>\n",
       "      <th>9</th>\n",
       "      <td>ESTU_GENERO</td>\n",
       "      <td>0.003798</td>\n",
       "    </tr>\n",
       "    <tr>\n",
       "      <th>10</th>\n",
       "      <td>ESTU_FECHANACIMIENTO</td>\n",
       "      <td>0.001899</td>\n",
       "    </tr>\n",
       "    <tr>\n",
       "      <th>11</th>\n",
       "      <td>ESTU_NACIONALIDAD</td>\n",
       "      <td>0.000000</td>\n",
       "    </tr>\n",
       "    <tr>\n",
       "      <th>12</th>\n",
       "      <td>ESTU_ESTADO</td>\n",
       "      <td>0.000000</td>\n",
       "    </tr>\n",
       "    <tr>\n",
       "      <th>13</th>\n",
       "      <td>MOD_RAZONA_CUANTITAT_PUNT</td>\n",
       "      <td>0.000000</td>\n",
       "    </tr>\n",
       "    <tr>\n",
       "      <th>14</th>\n",
       "      <td>MOD_LECTURA_CRITICA_PUNT</td>\n",
       "      <td>0.000000</td>\n",
       "    </tr>\n",
       "    <tr>\n",
       "      <th>15</th>\n",
       "      <td>MOD_COMPETEN_CIUDADA_PUNT</td>\n",
       "      <td>0.000000</td>\n",
       "    </tr>\n",
       "    <tr>\n",
       "      <th>16</th>\n",
       "      <td>MOD_INGLES_PUNT</td>\n",
       "      <td>0.000000</td>\n",
       "    </tr>\n",
       "    <tr>\n",
       "      <th>17</th>\n",
       "      <td>MOD_INGLES_DESEM</td>\n",
       "      <td>0.000000</td>\n",
       "    </tr>\n",
       "  </tbody>\n",
       "</table>\n",
       "</div>"
      ],
      "text/plain": [
       "                         Variable    Missing\n",
       "0             ESTU_LIMITA_AUTISMO  99.994304\n",
       "1           ESTU_LIMITA_INVIDENTE  99.992405\n",
       "2   ESTU_LIMITA_CONDICIONESPECIAL  99.986708\n",
       "3               ESTU_LIMITA_SORDO  99.944935\n",
       "4              ESTU_LIMITA_MOTRIZ  99.912655\n",
       "5                      ESTU_ETNIA  94.140321\n",
       "6                ESTU_TIENE_ETNIA   8.147726\n",
       "7         MOD_COMUNI_ESCRITA_PUNT   1.462072\n",
       "8                             NSE   1.429792\n",
       "9                     ESTU_GENERO   0.003798\n",
       "10           ESTU_FECHANACIMIENTO   0.001899\n",
       "11              ESTU_NACIONALIDAD   0.000000\n",
       "12                    ESTU_ESTADO   0.000000\n",
       "13      MOD_RAZONA_CUANTITAT_PUNT   0.000000\n",
       "14       MOD_LECTURA_CRITICA_PUNT   0.000000\n",
       "15      MOD_COMPETEN_CIUDADA_PUNT   0.000000\n",
       "16                MOD_INGLES_PUNT   0.000000\n",
       "17               MOD_INGLES_DESEM   0.000000"
      ]
     },
     "execution_count": 93,
     "metadata": {},
     "output_type": "execute_result"
    }
   ],
   "source": [
    "missing = data_final.isna().sum() /len(data_final)*100\n",
    "missing = pd.DataFrame(missing).reset_index()\n",
    "missing.columns = [\"Variable\", \"Missing\"]\n",
    "missing = missing.sort_values(by=\"Missing\", ascending=False).reset_index()\n",
    "missing.drop(columns=\"index\", inplace=True)\n",
    "missing"
   ]
  },
  {
   "cell_type": "code",
   "execution_count": 94,
   "metadata": {},
   "outputs": [],
   "source": [
    "Variables_categorias = [\"ESTU_GENERO\",\n",
    "                        \"ESTU_NACIONALIDAD\",     \n",
    "                        \"ESTU_TIENE_ETNIA\",\n",
    "                        \"ESTU_ETNIA\",\n",
    "                        \"ESTU_LIMITA_MOTRIZ\",\n",
    "                        \"ESTU_LIMITA_INVIDENTE\",\n",
    "                        \"ESTU_LIMITA_CONDICIONESPECIAL\",\n",
    "                        \"ESTU_LIMITA_SORDO\",\n",
    "                        \"ESTU_LIMITA_AUTISMO\",]"
   ]
  },
  {
   "cell_type": "markdown",
   "metadata": {},
   "source": [
    "#### Base de datos limpia sin NA"
   ]
  },
  {
   "cell_type": "code",
   "execution_count": 95,
   "metadata": {},
   "outputs": [
    {
     "data": {
      "text/html": [
       "<div>\n",
       "<style scoped>\n",
       "    .dataframe tbody tr th:only-of-type {\n",
       "        vertical-align: middle;\n",
       "    }\n",
       "\n",
       "    .dataframe tbody tr th {\n",
       "        vertical-align: top;\n",
       "    }\n",
       "\n",
       "    .dataframe thead th {\n",
       "        text-align: right;\n",
       "    }\n",
       "</style>\n",
       "<table border=\"1\" class=\"dataframe\">\n",
       "  <thead>\n",
       "    <tr style=\"text-align: right;\">\n",
       "      <th></th>\n",
       "      <th>Variable</th>\n",
       "      <th>Missing</th>\n",
       "    </tr>\n",
       "  </thead>\n",
       "  <tbody>\n",
       "    <tr>\n",
       "      <th>0</th>\n",
       "      <td>MOD_COMUNI_ESCRITA_PUNT</td>\n",
       "      <td>1.462072</td>\n",
       "    </tr>\n",
       "    <tr>\n",
       "      <th>1</th>\n",
       "      <td>NSE</td>\n",
       "      <td>1.429792</td>\n",
       "    </tr>\n",
       "    <tr>\n",
       "      <th>2</th>\n",
       "      <td>ESTU_FECHANACIMIENTO</td>\n",
       "      <td>0.001899</td>\n",
       "    </tr>\n",
       "    <tr>\n",
       "      <th>3</th>\n",
       "      <td>ESTU_LIMITA_AUTISMO</td>\n",
       "      <td>0.000000</td>\n",
       "    </tr>\n",
       "    <tr>\n",
       "      <th>4</th>\n",
       "      <td>MOD_INGLES_DESEM</td>\n",
       "      <td>0.000000</td>\n",
       "    </tr>\n",
       "    <tr>\n",
       "      <th>5</th>\n",
       "      <td>MOD_INGLES_PUNT</td>\n",
       "      <td>0.000000</td>\n",
       "    </tr>\n",
       "    <tr>\n",
       "      <th>6</th>\n",
       "      <td>MOD_COMPETEN_CIUDADA_PUNT</td>\n",
       "      <td>0.000000</td>\n",
       "    </tr>\n",
       "    <tr>\n",
       "      <th>7</th>\n",
       "      <td>MOD_LECTURA_CRITICA_PUNT</td>\n",
       "      <td>0.000000</td>\n",
       "    </tr>\n",
       "    <tr>\n",
       "      <th>8</th>\n",
       "      <td>MOD_RAZONA_CUANTITAT_PUNT</td>\n",
       "      <td>0.000000</td>\n",
       "    </tr>\n",
       "    <tr>\n",
       "      <th>9</th>\n",
       "      <td>ESTU_GENERO</td>\n",
       "      <td>0.000000</td>\n",
       "    </tr>\n",
       "    <tr>\n",
       "      <th>10</th>\n",
       "      <td>ESTU_NACIONALIDAD</td>\n",
       "      <td>0.000000</td>\n",
       "    </tr>\n",
       "    <tr>\n",
       "      <th>11</th>\n",
       "      <td>ESTU_LIMITA_CONDICIONESPECIAL</td>\n",
       "      <td>0.000000</td>\n",
       "    </tr>\n",
       "    <tr>\n",
       "      <th>12</th>\n",
       "      <td>ESTU_LIMITA_INVIDENTE</td>\n",
       "      <td>0.000000</td>\n",
       "    </tr>\n",
       "    <tr>\n",
       "      <th>13</th>\n",
       "      <td>ESTU_LIMITA_MOTRIZ</td>\n",
       "      <td>0.000000</td>\n",
       "    </tr>\n",
       "    <tr>\n",
       "      <th>14</th>\n",
       "      <td>ESTU_ETNIA</td>\n",
       "      <td>0.000000</td>\n",
       "    </tr>\n",
       "    <tr>\n",
       "      <th>15</th>\n",
       "      <td>ESTU_TIENE_ETNIA</td>\n",
       "      <td>0.000000</td>\n",
       "    </tr>\n",
       "    <tr>\n",
       "      <th>16</th>\n",
       "      <td>ESTU_ESTADO</td>\n",
       "      <td>0.000000</td>\n",
       "    </tr>\n",
       "    <tr>\n",
       "      <th>17</th>\n",
       "      <td>ESTU_LIMITA_SORDO</td>\n",
       "      <td>0.000000</td>\n",
       "    </tr>\n",
       "  </tbody>\n",
       "</table>\n",
       "</div>"
      ],
      "text/plain": [
       "                         Variable   Missing\n",
       "0         MOD_COMUNI_ESCRITA_PUNT  1.462072\n",
       "1                             NSE  1.429792\n",
       "2            ESTU_FECHANACIMIENTO  0.001899\n",
       "3             ESTU_LIMITA_AUTISMO  0.000000\n",
       "4                MOD_INGLES_DESEM  0.000000\n",
       "5                 MOD_INGLES_PUNT  0.000000\n",
       "6       MOD_COMPETEN_CIUDADA_PUNT  0.000000\n",
       "7        MOD_LECTURA_CRITICA_PUNT  0.000000\n",
       "8       MOD_RAZONA_CUANTITAT_PUNT  0.000000\n",
       "9                     ESTU_GENERO  0.000000\n",
       "10              ESTU_NACIONALIDAD  0.000000\n",
       "11  ESTU_LIMITA_CONDICIONESPECIAL  0.000000\n",
       "12          ESTU_LIMITA_INVIDENTE  0.000000\n",
       "13             ESTU_LIMITA_MOTRIZ  0.000000\n",
       "14                     ESTU_ETNIA  0.000000\n",
       "15               ESTU_TIENE_ETNIA  0.000000\n",
       "16                    ESTU_ESTADO  0.000000\n",
       "17              ESTU_LIMITA_SORDO  0.000000"
      ]
     },
     "execution_count": 95,
     "metadata": {},
     "output_type": "execute_result"
    }
   ],
   "source": [
    "for var in Variables_categorias:\n",
    "    Clean_Missing(var)\n",
    "\n",
    "\n",
    "missing = data_final.isna().sum() /len(data_final)*100\n",
    "missing = pd.DataFrame(missing).reset_index()\n",
    "missing.columns = [\"Variable\", \"Missing\"]\n",
    "missing = missing.sort_values(by=\"Missing\", ascending=False).reset_index()\n",
    "missing.drop(columns=\"index\", inplace=True)\n",
    "missing"
   ]
  },
  {
   "cell_type": "markdown",
   "metadata": {},
   "source": [
    "### Pregunta 4: Revisión Fecha de nacimiento y calculo de Edad:"
   ]
  },
  {
   "cell_type": "code",
   "execution_count": 96,
   "metadata": {},
   "outputs": [
    {
     "name": "stdout",
     "output_type": "stream",
     "text": [
      "<class 'pandas.core.frame.DataFrame'>\n",
      "Index: 52665 entries, 0 to 53039\n",
      "Data columns (total 18 columns):\n",
      " #   Column                         Non-Null Count  Dtype         \n",
      "---  ------                         --------------  -----         \n",
      " 0   ESTU_GENERO                    52665 non-null  object        \n",
      " 1   ESTU_NACIONALIDAD              52665 non-null  object        \n",
      " 2   ESTU_ESTADO                    52665 non-null  object        \n",
      " 3   ESTU_FECHANACIMIENTO           52664 non-null  datetime64[ns]\n",
      " 4   ESTU_TIENE_ETNIA               52665 non-null  object        \n",
      " 5   ESTU_ETNIA                     52665 non-null  object        \n",
      " 6   ESTU_LIMITA_MOTRIZ             52665 non-null  object        \n",
      " 7   ESTU_LIMITA_INVIDENTE          52665 non-null  object        \n",
      " 8   ESTU_LIMITA_CONDICIONESPECIAL  52665 non-null  object        \n",
      " 9   ESTU_LIMITA_SORDO              52665 non-null  object        \n",
      " 10  ESTU_LIMITA_AUTISMO            52665 non-null  object        \n",
      " 11  NSE                            51912 non-null  object        \n",
      " 12  MOD_RAZONA_CUANTITAT_PUNT      52665 non-null  int64         \n",
      " 13  MOD_LECTURA_CRITICA_PUNT       52665 non-null  int64         \n",
      " 14  MOD_COMPETEN_CIUDADA_PUNT      52665 non-null  int64         \n",
      " 15  MOD_INGLES_PUNT                52665 non-null  int64         \n",
      " 16  MOD_INGLES_DESEM               52665 non-null  object        \n",
      " 17  MOD_COMUNI_ESCRITA_PUNT        51895 non-null  float64       \n",
      "dtypes: datetime64[ns](1), float64(1), int64(4), object(12)\n",
      "memory usage: 7.6+ MB\n"
     ]
    },
    {
     "name": "stderr",
     "output_type": "stream",
     "text": [
      "C:\\Users\\Usuario\\AppData\\Local\\Temp\\ipykernel_17428\\1034290200.py:2: UserWarning: Parsing dates in %d/%m/%Y format when dayfirst=False (the default) was specified. Pass `dayfirst=True` or specify a format to silence this warning.\n",
      "  data_final[\"ESTU_FECHANACIMIENTO\"] = pd.to_datetime(data_final[\"ESTU_FECHANACIMIENTO\"])\n"
     ]
    }
   ],
   "source": [
    "from datetime import datetime\n",
    "data_final[\"ESTU_FECHANACIMIENTO\"] = pd.to_datetime(data_final[\"ESTU_FECHANACIMIENTO\"])\n",
    "data_final.info()"
   ]
  },
  {
   "cell_type": "code",
   "execution_count": 97,
   "metadata": {},
   "outputs": [
    {
     "data": {
      "text/plain": [
       "0        26.169863\n",
       "1        26.054795\n",
       "2        21.964384\n",
       "3        37.068493\n",
       "4        28.279452\n",
       "           ...    \n",
       "53035    24.731507\n",
       "53036    24.273973\n",
       "53037    28.106849\n",
       "53038    22.698630\n",
       "53039    28.668493\n",
       "Name: ESTU_EDAD, Length: 52665, dtype: float64"
      ]
     },
     "execution_count": 97,
     "metadata": {},
     "output_type": "execute_result"
    }
   ],
   "source": [
    "data_final[\"ESTU_EDAD\"] = datetime(year=2016, month= 10, day= 9) - data_final[\"ESTU_FECHANACIMIENTO\"]\n",
    "data_final[\"ESTU_EDAD\"] = data_final[\"ESTU_EDAD\"].dt.days / 365\n",
    "data_final[\"ESTU_EDAD\"]"
   ]
  },
  {
   "cell_type": "code",
   "execution_count": 98,
   "metadata": {},
   "outputs": [],
   "source": [
    "import seaborn as sns\n",
    "import plotly as pt"
   ]
  },
  {
   "cell_type": "markdown",
   "metadata": {},
   "source": [
    "### Analisis variables Fecha de Nacimiento y Edad:\n",
    "\n",
    "Podemos denotar en estas variables varias inconsistencias en relación a las edades de los estudiantes que presentaron el examen, esto dado por los siguientes datos descriptivos de la variable edad:\n",
    "```\n",
    "count    52664.000000\n",
    "mean        25.474069\n",
    "std          6.965131\n",
    "min         -7.273973\n",
    "25%         20.580822\n",
    "50%         23.189041\n",
    "75%         28.482192\n",
    "max         71.871233\n",
    "```\n",
    "- Llama la atención los valores mínimos y máximos de la variable, dado que **NINGUN** estudiante deberia tener **< 18 años** a la hora de presentar el examen, dado que es aquel que se presenta al final de los cursos de Tecnico y tecnologo. Y los valores máximos como outliers podrían ser datos verdaderos pero aquellos **> 30 años** ya empiezan a ser datos inconsistentes\n",
    "- Es interesante observar como los valores concordantes se centran dentro del Q1 y el Q3, teniendo un rango de edad desde los 20 hasta los 28 años aproximadamente"
   ]
  },
  {
   "cell_type": "code",
   "execution_count": 99,
   "metadata": {},
   "outputs": [
    {
     "data": {
      "text/plain": [
       "count    52664.000000\n",
       "mean        25.474069\n",
       "std          6.965131\n",
       "min         -7.273973\n",
       "25%         20.580822\n",
       "50%         23.189041\n",
       "75%         28.482192\n",
       "max         71.871233\n",
       "Name: ESTU_EDAD, dtype: float64"
      ]
     },
     "execution_count": 99,
     "metadata": {},
     "output_type": "execute_result"
    }
   ],
   "source": [
    "data_final[\"ESTU_EDAD\"].describe()"
   ]
  },
  {
   "cell_type": "code",
   "execution_count": 100,
   "metadata": {},
   "outputs": [
    {
     "data": {
      "image/png": "[encoded data removed]",
      "text/plain": [
       "<Figure size 640x480 with 1 Axes>"
      ]
     },
     "metadata": {},
     "output_type": "display_data"
    }
   ],
   "source": [
    "sns.boxplot(data_final[\"ESTU_EDAD\"])\n",
    "plt.xlabel(\"Edad\")\n",
    "plt.ylabel(\"Rango de Edades\")\n",
    "plt.show()"
   ]
  },
  {
   "cell_type": "markdown",
   "metadata": {},
   "source": [
    "### Pregunta 5: Variable Inglés\n",
    "\n",
    "Al final del analisis podemos determinar que la mayor parte de los estudiantes tienen un nivel de inglés menor a A2, considerando aproximadamente el 85% de la muestra. Lo que nos indica el Ministerio de Educación no logra cumplir la meta de que los estudiantes logren alcanzar el nivel B1 o B2, esto se observa mejor en el gráfico de pastel donde solo el 14% de los estudiantes lográn alcanzar este nivel de inglés durante sus estudios básicos y secundarios."
   ]
  },
  {
   "cell_type": "code",
   "execution_count": 101,
   "metadata": {},
   "outputs": [
    {
     "data": {
      "text/plain": [
       "array(['A2', 'B1', 'A1', 'A1-', 'B2'], dtype=object)"
      ]
     },
     "execution_count": 101,
     "metadata": {},
     "output_type": "execute_result"
    }
   ],
   "source": [
    "data_final[\"MOD_INGLES_DESEM\"].unique()"
   ]
  },
  {
   "cell_type": "code",
   "execution_count": 102,
   "metadata": {},
   "outputs": [
    {
     "data": {
      "text/html": [
       "<div>\n",
       "<style scoped>\n",
       "    .dataframe tbody tr th:only-of-type {\n",
       "        vertical-align: middle;\n",
       "    }\n",
       "\n",
       "    .dataframe tbody tr th {\n",
       "        vertical-align: top;\n",
       "    }\n",
       "\n",
       "    .dataframe thead th {\n",
       "        text-align: right;\n",
       "    }\n",
       "</style>\n",
       "<table border=\"1\" class=\"dataframe\">\n",
       "  <thead>\n",
       "    <tr style=\"text-align: right;\">\n",
       "      <th>col_0</th>\n",
       "      <th>MOD_INGLES_DESEM</th>\n",
       "      <th>Freq. Abs</th>\n",
       "      <th>Freq. Rel</th>\n",
       "    </tr>\n",
       "  </thead>\n",
       "  <tbody>\n",
       "    <tr>\n",
       "      <th>0</th>\n",
       "      <td>A1</td>\n",
       "      <td>18799</td>\n",
       "      <td>35.695433</td>\n",
       "    </tr>\n",
       "    <tr>\n",
       "      <th>2</th>\n",
       "      <td>A2</td>\n",
       "      <td>13540</td>\n",
       "      <td>25.709674</td>\n",
       "    </tr>\n",
       "    <tr>\n",
       "      <th>1</th>\n",
       "      <td>A1-</td>\n",
       "      <td>12965</td>\n",
       "      <td>24.617868</td>\n",
       "    </tr>\n",
       "    <tr>\n",
       "      <th>3</th>\n",
       "      <td>B1</td>\n",
       "      <td>5995</td>\n",
       "      <td>11.383272</td>\n",
       "    </tr>\n",
       "    <tr>\n",
       "      <th>4</th>\n",
       "      <td>B2</td>\n",
       "      <td>1366</td>\n",
       "      <td>2.593753</td>\n",
       "    </tr>\n",
       "  </tbody>\n",
       "</table>\n",
       "</div>"
      ],
      "text/plain": [
       "col_0 MOD_INGLES_DESEM  Freq. Abs  Freq. Rel\n",
       "0                   A1      18799  35.695433\n",
       "2                   A2      13540  25.709674\n",
       "1                  A1-      12965  24.617868\n",
       "3                   B1       5995  11.383272\n",
       "4                   B2       1366   2.593753"
      ]
     },
     "execution_count": 102,
     "metadata": {},
     "output_type": "execute_result"
    }
   ],
   "source": [
    "table_ingles = Table_desc(data_final, 'MOD_INGLES_DESEM')\n",
    "table_ingles"
   ]
  },
  {
   "cell_type": "code",
   "execution_count": 103,
   "metadata": {},
   "outputs": [
    {
     "data": {
      "image/png": "[encoded data removed]",
      "text/plain": [
       "<Figure size 640x480 with 1 Axes>"
      ]
     },
     "metadata": {},
     "output_type": "display_data"
    }
   ],
   "source": [
    "fig_ing = plt.figure()\n",
    "ax_ing = fig_ing.add_axes([0,0,1,1])\n",
    "ax_ing.bar(table_ingles[\"MOD_INGLES_DESEM\"], table_ingles[\"Freq. Abs\"], color = \"gray\")\n",
    "ax_ing.bar_label(ax_ing.containers[0], label_type='edge', fmt='%.0f', padding= 5)\n",
    "plt.title(\"Nivel de ingles pruebas \")\n",
    "plt.ylabel('Frecuencia Absoluta')\n",
    "plt.xlabel('Nivel de ingles')\n",
    "plt.show()"
   ]
  },
  {
   "cell_type": "code",
   "execution_count": 104,
   "metadata": {},
   "outputs": [],
   "source": [
    "data_final[\"INGLES_VALIDACION\"] = data_final[\"MOD_INGLES_DESEM\"].apply(lambda x: \"SI CUMPLE\" if x == 'B1' or x == 'B2' else \"NO CUMPLE\")"
   ]
  },
  {
   "cell_type": "code",
   "execution_count": 105,
   "metadata": {},
   "outputs": [
    {
     "data": {
      "text/html": [
       "<div>\n",
       "<style scoped>\n",
       "    .dataframe tbody tr th:only-of-type {\n",
       "        vertical-align: middle;\n",
       "    }\n",
       "\n",
       "    .dataframe tbody tr th {\n",
       "        vertical-align: top;\n",
       "    }\n",
       "\n",
       "    .dataframe thead th {\n",
       "        text-align: right;\n",
       "    }\n",
       "</style>\n",
       "<table border=\"1\" class=\"dataframe\">\n",
       "  <thead>\n",
       "    <tr style=\"text-align: right;\">\n",
       "      <th>col_0</th>\n",
       "      <th>INGLES_VALIDACION</th>\n",
       "      <th>Freq. Abs</th>\n",
       "      <th>Freq. Rel</th>\n",
       "    </tr>\n",
       "  </thead>\n",
       "  <tbody>\n",
       "    <tr>\n",
       "      <th>0</th>\n",
       "      <td>NO CUMPLE</td>\n",
       "      <td>45304</td>\n",
       "      <td>86.022975</td>\n",
       "    </tr>\n",
       "    <tr>\n",
       "      <th>1</th>\n",
       "      <td>SI CUMPLE</td>\n",
       "      <td>7361</td>\n",
       "      <td>13.977025</td>\n",
       "    </tr>\n",
       "  </tbody>\n",
       "</table>\n",
       "</div>"
      ],
      "text/plain": [
       "col_0 INGLES_VALIDACION  Freq. Abs  Freq. Rel\n",
       "0             NO CUMPLE      45304  86.022975\n",
       "1             SI CUMPLE       7361  13.977025"
      ]
     },
     "execution_count": 105,
     "metadata": {},
     "output_type": "execute_result"
    }
   ],
   "source": [
    "table_ingles_cumplir = Table_desc(data_final,'INGLES_VALIDACION')\n",
    "table_ingles_cumplir"
   ]
  },
  {
   "cell_type": "code",
   "execution_count": 106,
   "metadata": {},
   "outputs": [
    {
     "data": {
      "image/png": "[encoded data removed]",
      "text/plain": [
       "<Figure size 600x400 with 1 Axes>"
      ]
     },
     "metadata": {},
     "output_type": "display_data"
    }
   ],
   "source": [
    "cmap = plt.get_cmap(\"twilight\")\n",
    "plt.figure(figsize=(6, 4))\n",
    "plt.pie(table_ingles_cumplir[\"Freq. Rel\"],labels=table_ingles_cumplir[\"INGLES_VALIDACION\"], autopct='%1.1f%%', colors=cmap(np.linspace(0.2, 1, len(table_ingles_cumplir[\"Freq. Rel\"]))),\n",
    "        shadow=True, startangle=90, wedgeprops={'edgecolor': 'black'})\n",
    "centre_circle = plt.Circle((0, 0), 0.70, fc='white')\n",
    "fig = plt.gcf()\n",
    "fig.gca().add_artist(centre_circle)\n",
    "\n",
    "plt.title(\"Distribución Cumplimiento de nivel de Ingles\")\n",
    "plt.axis('equal') \n",
    "plt.tight_layout()\n",
    "plt.show()"
   ]
  },
  {
   "cell_type": "markdown",
   "metadata": {},
   "source": [
    "#### Pregunta 6: Etnias"
   ]
  },
  {
   "cell_type": "code",
   "execution_count": 107,
   "metadata": {},
   "outputs": [],
   "source": [
    "import unidecode\n",
    "\n",
    "def remove_accents(a):\n",
    "    return unidecode.unidecode(a)\n",
    "\n",
    "data_final['ESTU_ETNIA'] = data_final['ESTU_ETNIA'].apply(remove_accents)"
   ]
  },
  {
   "cell_type": "code",
   "execution_count": 108,
   "metadata": {},
   "outputs": [
    {
     "data": {
      "text/plain": [
       "array(['NO', '19 Otro grupo etnico minoritario',\n",
       "       '1 Comunidad afrodescendiente', '100 Ninguno', '4 Paez', '9 Pasto',\n",
       "       '11 Inga', '7 Pijao', '2 Raizal', '12 Tucano', '15 Palenquero',\n",
       "       '8 Wayuu', '18 Zenu', '6 Embera ', '10 Cancuamo', '17 Guambiano',\n",
       "       '3 Comunidad Rom (gitana)', '13 Huitoto', '16 Arhuaco'],\n",
       "      dtype=object)"
      ]
     },
     "execution_count": 108,
     "metadata": {},
     "output_type": "execute_result"
    }
   ],
   "source": [
    "data_final[\"ESTU_ETNIA\"].unique()"
   ]
  },
  {
   "cell_type": "code",
   "execution_count": 109,
   "metadata": {},
   "outputs": [
    {
     "data": {
      "text/plain": [
       "array(['NO', 'SI'], dtype=object)"
      ]
     },
     "execution_count": 109,
     "metadata": {},
     "output_type": "execute_result"
    }
   ],
   "source": [
    "data_final[\"ESTU_TIENE_ETNIA\"].unique()"
   ]
  },
  {
   "cell_type": "code",
   "execution_count": 110,
   "metadata": {},
   "outputs": [
    {
     "data": {
      "text/plain": [
       "76"
      ]
     },
     "execution_count": 110,
     "metadata": {},
     "output_type": "execute_result"
    }
   ],
   "source": [
    "etnias_error = data_final[(data_final[\"ESTU_TIENE_ETNIA\"] == 'NO') & (data_final[\"ESTU_ETNIA\"] != 'NO')]\n",
    "len(etnias_error)"
   ]
  },
  {
   "cell_type": "code",
   "execution_count": 111,
   "metadata": {},
   "outputs": [
    {
     "data": {
      "text/html": [
       "<div>\n",
       "<style scoped>\n",
       "    .dataframe tbody tr th:only-of-type {\n",
       "        vertical-align: middle;\n",
       "    }\n",
       "\n",
       "    .dataframe tbody tr th {\n",
       "        vertical-align: top;\n",
       "    }\n",
       "\n",
       "    .dataframe thead th {\n",
       "        text-align: right;\n",
       "    }\n",
       "</style>\n",
       "<table border=\"1\" class=\"dataframe\">\n",
       "  <thead>\n",
       "    <tr style=\"text-align: right;\">\n",
       "      <th></th>\n",
       "      <th>ESTU_ETNIA</th>\n",
       "      <th>count</th>\n",
       "    </tr>\n",
       "  </thead>\n",
       "  <tbody>\n",
       "    <tr>\n",
       "      <th>0</th>\n",
       "      <td>100 Ninguno</td>\n",
       "      <td>41</td>\n",
       "    </tr>\n",
       "    <tr>\n",
       "      <th>1</th>\n",
       "      <td>19 Otro grupo etnico minoritario</td>\n",
       "      <td>20</td>\n",
       "    </tr>\n",
       "    <tr>\n",
       "      <th>2</th>\n",
       "      <td>1 Comunidad afrodescendiente</td>\n",
       "      <td>8</td>\n",
       "    </tr>\n",
       "    <tr>\n",
       "      <th>3</th>\n",
       "      <td>9 Pasto</td>\n",
       "      <td>3</td>\n",
       "    </tr>\n",
       "    <tr>\n",
       "      <th>4</th>\n",
       "      <td>2 Raizal</td>\n",
       "      <td>2</td>\n",
       "    </tr>\n",
       "    <tr>\n",
       "      <th>5</th>\n",
       "      <td>18 Zenu</td>\n",
       "      <td>1</td>\n",
       "    </tr>\n",
       "    <tr>\n",
       "      <th>6</th>\n",
       "      <td>7 Pijao</td>\n",
       "      <td>1</td>\n",
       "    </tr>\n",
       "  </tbody>\n",
       "</table>\n",
       "</div>"
      ],
      "text/plain": [
       "                         ESTU_ETNIA  count\n",
       "0                       100 Ninguno     41\n",
       "1  19 Otro grupo etnico minoritario     20\n",
       "2      1 Comunidad afrodescendiente      8\n",
       "3                           9 Pasto      3\n",
       "4                          2 Raizal      2\n",
       "5                           18 Zenu      1\n",
       "6                           7 Pijao      1"
      ]
     },
     "execution_count": 111,
     "metadata": {},
     "output_type": "execute_result"
    }
   ],
   "source": [
    "etnias_error = pd.DataFrame(etnias_error[\"ESTU_ETNIA\"].value_counts()).reset_index()\n",
    "etnias_error"
   ]
  },
  {
   "cell_type": "markdown",
   "metadata": {},
   "source": [
    "#### Inconsistencias Etnias\n",
    "\n",
    "Podemos observar que existen 76 registros con error en la variable Etnias, dado por, la condición de la variable \"ESTU_TIENE_ETNIA\" donde si se responde \"NO\" se asume que el estudiante no tiene etnia, por ende, estos 76 registros no respetan esta regla y se toman como inconsistentes."
   ]
  },
  {
   "cell_type": "code",
   "execution_count": 112,
   "metadata": {},
   "outputs": [
    {
     "name": "stderr",
     "output_type": "stream",
     "text": [
      "C:\\Users\\Usuario\\AppData\\Local\\Temp\\ipykernel_17428\\1967691546.py:8: UserWarning: FixedFormatter should only be used together with FixedLocator\n",
      "  ax_et.set_xticklabels(etnias_error[\"ESTU_ETNIA\"], rotation=90, ha=\"right\")\n"
     ]
    },
    {
     "data": {
      "image/png": "[encoded data removed]",
      "text/plain": [
       "<Figure size 640x480 with 1 Axes>"
      ]
     },
     "metadata": {},
     "output_type": "display_data"
    }
   ],
   "source": [
    "fig_etnias = plt.figure()\n",
    "ax_et = fig_etnias.add_axes([0,0,1,1])\n",
    "ax_et.bar(etnias_error[\"ESTU_ETNIA\"], etnias_error[\"count\"], color=\"darkgreen\")\n",
    "ax_et.bar_label(ax_et.containers[0], label_type='edge', fmt='%.0f', padding= 5)\n",
    "plt.title(\"Inconsistencias Etnias\")\n",
    "plt.ylabel('Conteo')\n",
    "plt.xlabel('Etnias')\n",
    "ax_et.set_xticklabels(etnias_error[\"ESTU_ETNIA\"], rotation=90, ha=\"right\")\n",
    "plt.show()"
   ]
  },
  {
   "cell_type": "code",
   "execution_count": 113,
   "metadata": {},
   "outputs": [],
   "source": [
    "data_final['ESTU_ETNIA'].replace(\"100 Ninguno\", \"NO\", inplace=True)"
   ]
  },
  {
   "cell_type": "markdown",
   "metadata": {},
   "source": [
    "#### Variable Etnia\n",
    "\n",
    "Evidenciamos la clara minoria de personas que pertenecen a una Etnia y que presentan este examen, al punto que, se requiere excluir aquellas personas que NO pertenecen a una para poder evidenciar mejor la frecuencia en el gráfico de barras, dado que estos son **menos del 3%** de la muestra.\n",
    "\n",
    "Igualmente este número podría reducirse si se decidiera eliminar aquellos valores inconsistentes mencionados previamente."
   ]
  },
  {
   "cell_type": "code",
   "execution_count": 119,
   "metadata": {},
   "outputs": [
    {
     "data": {
      "text/html": [
       "<div>\n",
       "<style scoped>\n",
       "    .dataframe tbody tr th:only-of-type {\n",
       "        vertical-align: middle;\n",
       "    }\n",
       "\n",
       "    .dataframe tbody tr th {\n",
       "        vertical-align: top;\n",
       "    }\n",
       "\n",
       "    .dataframe thead th {\n",
       "        text-align: right;\n",
       "    }\n",
       "</style>\n",
       "<table border=\"1\" class=\"dataframe\">\n",
       "  <thead>\n",
       "    <tr style=\"text-align: right;\">\n",
       "      <th>col_0</th>\n",
       "      <th>ESTU_ETNIA</th>\n",
       "      <th>Freq. Abs</th>\n",
       "      <th>Freq. Rel</th>\n",
       "    </tr>\n",
       "  </thead>\n",
       "  <tbody>\n",
       "    <tr>\n",
       "      <th>17</th>\n",
       "      <td>NO</td>\n",
       "      <td>51210</td>\n",
       "      <td>97.237254</td>\n",
       "    </tr>\n",
       "    <tr>\n",
       "      <th>0</th>\n",
       "      <td>1 Comunidad afrodescendiente</td>\n",
       "      <td>681</td>\n",
       "      <td>1.293079</td>\n",
       "    </tr>\n",
       "    <tr>\n",
       "      <th>9</th>\n",
       "      <td>19 Otro grupo etnico minoritario</td>\n",
       "      <td>445</td>\n",
       "      <td>0.844963</td>\n",
       "    </tr>\n",
       "    <tr>\n",
       "      <th>12</th>\n",
       "      <td>4 Paez</td>\n",
       "      <td>72</td>\n",
       "      <td>0.136713</td>\n",
       "    </tr>\n",
       "    <tr>\n",
       "      <th>8</th>\n",
       "      <td>18 Zenu</td>\n",
       "      <td>57</td>\n",
       "      <td>0.108231</td>\n",
       "    </tr>\n",
       "    <tr>\n",
       "      <th>16</th>\n",
       "      <td>9 Pasto</td>\n",
       "      <td>42</td>\n",
       "      <td>0.079749</td>\n",
       "    </tr>\n",
       "    <tr>\n",
       "      <th>10</th>\n",
       "      <td>2 Raizal</td>\n",
       "      <td>40</td>\n",
       "      <td>0.075952</td>\n",
       "    </tr>\n",
       "    <tr>\n",
       "      <th>13</th>\n",
       "      <td>6 Embera</td>\n",
       "      <td>32</td>\n",
       "      <td>0.060761</td>\n",
       "    </tr>\n",
       "    <tr>\n",
       "      <th>14</th>\n",
       "      <td>7 Pijao</td>\n",
       "      <td>21</td>\n",
       "      <td>0.039875</td>\n",
       "    </tr>\n",
       "    <tr>\n",
       "      <th>15</th>\n",
       "      <td>8 Wayuu</td>\n",
       "      <td>19</td>\n",
       "      <td>0.036077</td>\n",
       "    </tr>\n",
       "    <tr>\n",
       "      <th>2</th>\n",
       "      <td>11 Inga</td>\n",
       "      <td>16</td>\n",
       "      <td>0.030381</td>\n",
       "    </tr>\n",
       "    <tr>\n",
       "      <th>7</th>\n",
       "      <td>17 Guambiano</td>\n",
       "      <td>10</td>\n",
       "      <td>0.018988</td>\n",
       "    </tr>\n",
       "    <tr>\n",
       "      <th>5</th>\n",
       "      <td>15 Palenquero</td>\n",
       "      <td>7</td>\n",
       "      <td>0.013292</td>\n",
       "    </tr>\n",
       "    <tr>\n",
       "      <th>6</th>\n",
       "      <td>16 Arhuaco</td>\n",
       "      <td>3</td>\n",
       "      <td>0.005696</td>\n",
       "    </tr>\n",
       "    <tr>\n",
       "      <th>1</th>\n",
       "      <td>10 Cancuamo</td>\n",
       "      <td>3</td>\n",
       "      <td>0.005696</td>\n",
       "    </tr>\n",
       "    <tr>\n",
       "      <th>11</th>\n",
       "      <td>3 Comunidad Rom (gitana)</td>\n",
       "      <td>3</td>\n",
       "      <td>0.005696</td>\n",
       "    </tr>\n",
       "    <tr>\n",
       "      <th>3</th>\n",
       "      <td>12 Tucano</td>\n",
       "      <td>2</td>\n",
       "      <td>0.003798</td>\n",
       "    </tr>\n",
       "    <tr>\n",
       "      <th>4</th>\n",
       "      <td>13 Huitoto</td>\n",
       "      <td>2</td>\n",
       "      <td>0.003798</td>\n",
       "    </tr>\n",
       "  </tbody>\n",
       "</table>\n",
       "</div>"
      ],
      "text/plain": [
       "col_0                        ESTU_ETNIA  Freq. Abs  Freq. Rel\n",
       "17                                   NO      51210  97.237254\n",
       "0          1 Comunidad afrodescendiente        681   1.293079\n",
       "9      19 Otro grupo etnico minoritario        445   0.844963\n",
       "12                               4 Paez         72   0.136713\n",
       "8                               18 Zenu         57   0.108231\n",
       "16                              9 Pasto         42   0.079749\n",
       "10                             2 Raizal         40   0.075952\n",
       "13                            6 Embera          32   0.060761\n",
       "14                              7 Pijao         21   0.039875\n",
       "15                              8 Wayuu         19   0.036077\n",
       "2                               11 Inga         16   0.030381\n",
       "7                          17 Guambiano         10   0.018988\n",
       "5                         15 Palenquero          7   0.013292\n",
       "6                            16 Arhuaco          3   0.005696\n",
       "1                           10 Cancuamo          3   0.005696\n",
       "11             3 Comunidad Rom (gitana)          3   0.005696\n",
       "3                             12 Tucano          2   0.003798\n",
       "4                            13 Huitoto          2   0.003798"
      ]
     },
     "execution_count": 119,
     "metadata": {},
     "output_type": "execute_result"
    }
   ],
   "source": [
    "table_etnias = Table_desc(data_final,'ESTU_ETNIA')\n",
    "table_etnias"
   ]
  },
  {
   "cell_type": "code",
   "execution_count": 120,
   "metadata": {},
   "outputs": [
    {
     "name": "stderr",
     "output_type": "stream",
     "text": [
      "C:\\Users\\Usuario\\AppData\\Local\\Temp\\ipykernel_17428\\1745579383.py:8: UserWarning: FixedFormatter should only be used together with FixedLocator\n",
      "  ax_et.set_xticklabels(table_etnias[\"ESTU_ETNIA\"], rotation=90, ha=\"right\")\n"
     ]
    },
    {
     "data": {
      "image/png": "[encoded data removed]",
      "text/plain": [
       "<Figure size 640x480 with 1 Axes>"
      ]
     },
     "metadata": {},
     "output_type": "display_data"
    }
   ],
   "source": [
    "fig_etnias = plt.figure()\n",
    "ax_et = fig_etnias.add_axes([0,0,1,1])\n",
    "ax_et.bar(table_etnias[\"ESTU_ETNIA\"],table_etnias[\"Freq. Abs\"], color=\"darkred\")\n",
    "ax_et.bar_label(ax_et.containers[0], label_type='edge', fmt='%.0f', padding= 5)\n",
    "plt.title(\"Etnias\")\n",
    "plt.ylabel('Conteo')\n",
    "plt.xlabel('Etnias')\n",
    "ax_et.set_xticklabels(table_etnias[\"ESTU_ETNIA\"], rotation=90, ha=\"right\")\n",
    "plt.show()"
   ]
  },
  {
   "cell_type": "code",
   "execution_count": 114,
   "metadata": {},
   "outputs": [
    {
     "data": {
      "text/html": [
       "<div>\n",
       "<style scoped>\n",
       "    .dataframe tbody tr th:only-of-type {\n",
       "        vertical-align: middle;\n",
       "    }\n",
       "\n",
       "    .dataframe tbody tr th {\n",
       "        vertical-align: top;\n",
       "    }\n",
       "\n",
       "    .dataframe thead th {\n",
       "        text-align: right;\n",
       "    }\n",
       "</style>\n",
       "<table border=\"1\" class=\"dataframe\">\n",
       "  <thead>\n",
       "    <tr style=\"text-align: right;\">\n",
       "      <th>col_0</th>\n",
       "      <th>ESTU_ETNIA</th>\n",
       "      <th>Freq. Abs</th>\n",
       "      <th>Freq. Rel</th>\n",
       "    </tr>\n",
       "  </thead>\n",
       "  <tbody>\n",
       "    <tr>\n",
       "      <th>0</th>\n",
       "      <td>1 Comunidad afrodescendiente</td>\n",
       "      <td>681</td>\n",
       "      <td>1.293079</td>\n",
       "    </tr>\n",
       "    <tr>\n",
       "      <th>9</th>\n",
       "      <td>19 Otro grupo etnico minoritario</td>\n",
       "      <td>445</td>\n",
       "      <td>0.844963</td>\n",
       "    </tr>\n",
       "    <tr>\n",
       "      <th>12</th>\n",
       "      <td>4 Paez</td>\n",
       "      <td>72</td>\n",
       "      <td>0.136713</td>\n",
       "    </tr>\n",
       "    <tr>\n",
       "      <th>8</th>\n",
       "      <td>18 Zenu</td>\n",
       "      <td>57</td>\n",
       "      <td>0.108231</td>\n",
       "    </tr>\n",
       "    <tr>\n",
       "      <th>16</th>\n",
       "      <td>9 Pasto</td>\n",
       "      <td>42</td>\n",
       "      <td>0.079749</td>\n",
       "    </tr>\n",
       "    <tr>\n",
       "      <th>10</th>\n",
       "      <td>2 Raizal</td>\n",
       "      <td>40</td>\n",
       "      <td>0.075952</td>\n",
       "    </tr>\n",
       "    <tr>\n",
       "      <th>13</th>\n",
       "      <td>6 Embera</td>\n",
       "      <td>32</td>\n",
       "      <td>0.060761</td>\n",
       "    </tr>\n",
       "    <tr>\n",
       "      <th>14</th>\n",
       "      <td>7 Pijao</td>\n",
       "      <td>21</td>\n",
       "      <td>0.039875</td>\n",
       "    </tr>\n",
       "    <tr>\n",
       "      <th>15</th>\n",
       "      <td>8 Wayuu</td>\n",
       "      <td>19</td>\n",
       "      <td>0.036077</td>\n",
       "    </tr>\n",
       "    <tr>\n",
       "      <th>2</th>\n",
       "      <td>11 Inga</td>\n",
       "      <td>16</td>\n",
       "      <td>0.030381</td>\n",
       "    </tr>\n",
       "    <tr>\n",
       "      <th>7</th>\n",
       "      <td>17 Guambiano</td>\n",
       "      <td>10</td>\n",
       "      <td>0.018988</td>\n",
       "    </tr>\n",
       "    <tr>\n",
       "      <th>5</th>\n",
       "      <td>15 Palenquero</td>\n",
       "      <td>7</td>\n",
       "      <td>0.013292</td>\n",
       "    </tr>\n",
       "    <tr>\n",
       "      <th>6</th>\n",
       "      <td>16 Arhuaco</td>\n",
       "      <td>3</td>\n",
       "      <td>0.005696</td>\n",
       "    </tr>\n",
       "    <tr>\n",
       "      <th>1</th>\n",
       "      <td>10 Cancuamo</td>\n",
       "      <td>3</td>\n",
       "      <td>0.005696</td>\n",
       "    </tr>\n",
       "    <tr>\n",
       "      <th>11</th>\n",
       "      <td>3 Comunidad Rom (gitana)</td>\n",
       "      <td>3</td>\n",
       "      <td>0.005696</td>\n",
       "    </tr>\n",
       "    <tr>\n",
       "      <th>3</th>\n",
       "      <td>12 Tucano</td>\n",
       "      <td>2</td>\n",
       "      <td>0.003798</td>\n",
       "    </tr>\n",
       "    <tr>\n",
       "      <th>4</th>\n",
       "      <td>13 Huitoto</td>\n",
       "      <td>2</td>\n",
       "      <td>0.003798</td>\n",
       "    </tr>\n",
       "  </tbody>\n",
       "</table>\n",
       "</div>"
      ],
      "text/plain": [
       "col_0                        ESTU_ETNIA  Freq. Abs  Freq. Rel\n",
       "0          1 Comunidad afrodescendiente        681   1.293079\n",
       "9      19 Otro grupo etnico minoritario        445   0.844963\n",
       "12                               4 Paez         72   0.136713\n",
       "8                               18 Zenu         57   0.108231\n",
       "16                              9 Pasto         42   0.079749\n",
       "10                             2 Raizal         40   0.075952\n",
       "13                            6 Embera          32   0.060761\n",
       "14                              7 Pijao         21   0.039875\n",
       "15                              8 Wayuu         19   0.036077\n",
       "2                               11 Inga         16   0.030381\n",
       "7                          17 Guambiano         10   0.018988\n",
       "5                         15 Palenquero          7   0.013292\n",
       "6                            16 Arhuaco          3   0.005696\n",
       "1                           10 Cancuamo          3   0.005696\n",
       "11             3 Comunidad Rom (gitana)          3   0.005696\n",
       "3                             12 Tucano          2   0.003798\n",
       "4                            13 Huitoto          2   0.003798"
      ]
     },
     "execution_count": 114,
     "metadata": {},
     "output_type": "execute_result"
    }
   ],
   "source": [
    "table_etnias = Table_desc(data_final,'ESTU_ETNIA')\n",
    "table_etnias.drop(index=17, inplace= True) ## Elimino los resultado de \"NO\" para dar representatividad a las Etnias\n",
    "table_etnias"
   ]
  },
  {
   "cell_type": "code",
   "execution_count": 115,
   "metadata": {},
   "outputs": [
    {
     "name": "stderr",
     "output_type": "stream",
     "text": [
      "C:\\Users\\Usuario\\AppData\\Local\\Temp\\ipykernel_17428\\1745579383.py:8: UserWarning: FixedFormatter should only be used together with FixedLocator\n",
      "  ax_et.set_xticklabels(table_etnias[\"ESTU_ETNIA\"], rotation=90, ha=\"right\")\n"
     ]
    },
    {
     "data": {
      "image/png": "[encoded data removed]",
      "text/plain": [
       "<Figure size 640x480 with 1 Axes>"
      ]
     },
     "metadata": {},
     "output_type": "display_data"
    }
   ],
   "source": [
    "fig_etnias = plt.figure()\n",
    "ax_et = fig_etnias.add_axes([0,0,1,1])\n",
    "ax_et.bar(table_etnias[\"ESTU_ETNIA\"],table_etnias[\"Freq. Abs\"], color=\"darkred\")\n",
    "ax_et.bar_label(ax_et.containers[0], label_type='edge', fmt='%.0f', padding= 5)\n",
    "plt.title(\"Etnias\")\n",
    "plt.ylabel('Conteo')\n",
    "plt.xlabel('Etnias')\n",
    "ax_et.set_xticklabels(table_etnias[\"ESTU_ETNIA\"], rotation=90, ha=\"right\")\n",
    "plt.show()"
   ]
  },
  {
   "cell_type": "markdown",
   "metadata": {},
   "source": [
    "#### Pregunta 7: Limitaciones"
   ]
  },
  {
   "cell_type": "code",
   "execution_count": 116,
   "metadata": {},
   "outputs": [
    {
     "name": "stdout",
     "output_type": "stream",
     "text": [
      "<class 'pandas.core.frame.DataFrame'>\n",
      "Index: 52665 entries, 0 to 53039\n",
      "Data columns (total 20 columns):\n",
      " #   Column                         Non-Null Count  Dtype         \n",
      "---  ------                         --------------  -----         \n",
      " 0   ESTU_GENERO                    52665 non-null  object        \n",
      " 1   ESTU_NACIONALIDAD              52665 non-null  object        \n",
      " 2   ESTU_ESTADO                    52665 non-null  object        \n",
      " 3   ESTU_FECHANACIMIENTO           52664 non-null  datetime64[ns]\n",
      " 4   ESTU_TIENE_ETNIA               52665 non-null  object        \n",
      " 5   ESTU_ETNIA                     52665 non-null  object        \n",
      " 6   ESTU_LIMITA_MOTRIZ             52665 non-null  object        \n",
      " 7   ESTU_LIMITA_INVIDENTE          52665 non-null  object        \n",
      " 8   ESTU_LIMITA_CONDICIONESPECIAL  52665 non-null  object        \n",
      " 9   ESTU_LIMITA_SORDO              52665 non-null  object        \n",
      " 10  ESTU_LIMITA_AUTISMO            52665 non-null  object        \n",
      " 11  NSE                            51912 non-null  object        \n",
      " 12  MOD_RAZONA_CUANTITAT_PUNT      52665 non-null  int64         \n",
      " 13  MOD_LECTURA_CRITICA_PUNT       52665 non-null  int64         \n",
      " 14  MOD_COMPETEN_CIUDADA_PUNT      52665 non-null  int64         \n",
      " 15  MOD_INGLES_PUNT                52665 non-null  int64         \n",
      " 16  MOD_INGLES_DESEM               52665 non-null  object        \n",
      " 17  MOD_COMUNI_ESCRITA_PUNT        51895 non-null  float64       \n",
      " 18  ESTU_EDAD                      52664 non-null  float64       \n",
      " 19  INGLES_VALIDACION              52665 non-null  object        \n",
      "dtypes: datetime64[ns](1), float64(2), int64(4), object(13)\n",
      "memory usage: 10.5+ MB\n"
     ]
    }
   ],
   "source": [
    "var_discapacidad = [\"ESTU_LIMITA_MOTRIZ\",\"ESTU_LIMITA_INVIDENTE\",\"ESTU_LIMITA_CONDICIONESPECIAL\",\"ESTU_LIMITA_SORDO\",\"ESTU_LIMITA_AUTISMO\"]\n",
    "\n",
    "for var in var_discapacidad:\n",
    "    data_final[var] = data_final[var].replace(\"x\", 1).replace(np.nan, 0).astype(str)\n",
    "data_final.info()\n"
   ]
  },
  {
   "cell_type": "code",
   "execution_count": 117,
   "metadata": {},
   "outputs": [
    {
     "data": {
      "text/plain": [
       "ESTU_LIMITA_CONDICIONESPECIAL\n",
       "NO    52658\n",
       "SI        7\n",
       "Name: count, dtype: int64"
      ]
     },
     "execution_count": 117,
     "metadata": {},
     "output_type": "execute_result"
    }
   ],
   "source": [
    "data_final[\"ESTU_LIMITA_CONDICIONESPECIAL\"].value_counts()"
   ]
  },
  {
   "cell_type": "markdown",
   "metadata": {},
   "source": [
    "#### Variable Limitaciones\n",
    "\n",
    "Como podemos evidenciar en el gráfico de barras, esta población igualmente representa una minoria comparandola con el general de la población que presentan este examen estatal. Siendo estos incluso menos del 2% del general de la muestra."
   ]
  },
  {
   "cell_type": "code",
   "execution_count": 123,
   "metadata": {},
   "outputs": [
    {
     "data": {
      "text/html": [
       "<div>\n",
       "<style scoped>\n",
       "    .dataframe tbody tr th:only-of-type {\n",
       "        vertical-align: middle;\n",
       "    }\n",
       "\n",
       "    .dataframe tbody tr th {\n",
       "        vertical-align: top;\n",
       "    }\n",
       "\n",
       "    .dataframe thead th {\n",
       "        text-align: right;\n",
       "    }\n",
       "</style>\n",
       "<table border=\"1\" class=\"dataframe\">\n",
       "  <thead>\n",
       "    <tr style=\"text-align: right;\">\n",
       "      <th></th>\n",
       "      <th>LIMITACIÓN</th>\n",
       "      <th>SI (Fecuencia Relativa %)</th>\n",
       "      <th>NO (Fecuencia Relativa %)</th>\n",
       "    </tr>\n",
       "  </thead>\n",
       "  <tbody>\n",
       "    <tr>\n",
       "      <th>0</th>\n",
       "      <td>MOTRIZ</td>\n",
       "      <td>0.09</td>\n",
       "      <td>99.91</td>\n",
       "    </tr>\n",
       "    <tr>\n",
       "      <th>1</th>\n",
       "      <td>INVIDENTE</td>\n",
       "      <td>0.01</td>\n",
       "      <td>99.99</td>\n",
       "    </tr>\n",
       "    <tr>\n",
       "      <th>2</th>\n",
       "      <td>CONDICIONESPECIAL</td>\n",
       "      <td>0.01</td>\n",
       "      <td>99.99</td>\n",
       "    </tr>\n",
       "    <tr>\n",
       "      <th>3</th>\n",
       "      <td>SORDO</td>\n",
       "      <td>0.06</td>\n",
       "      <td>99.94</td>\n",
       "    </tr>\n",
       "    <tr>\n",
       "      <th>4</th>\n",
       "      <td>AUTISMO</td>\n",
       "      <td>0.01</td>\n",
       "      <td>99.99</td>\n",
       "    </tr>\n",
       "  </tbody>\n",
       "</table>\n",
       "</div>"
      ],
      "text/plain": [
       "          LIMITACIÓN  SI (Fecuencia Relativa %)  NO (Fecuencia Relativa %)\n",
       "0             MOTRIZ                       0.09                      99.91\n",
       "1          INVIDENTE                       0.01                      99.99\n",
       "2  CONDICIONESPECIAL                       0.01                      99.99\n",
       "3              SORDO                       0.06                      99.94\n",
       "4            AUTISMO                       0.01                      99.99"
      ]
     },
     "execution_count": 123,
     "metadata": {},
     "output_type": "execute_result"
    }
   ],
   "source": [
    "limitaciones = (\"MOTRIZ\", \"INVIDENTE\", \"CONDICIONESPECIAL\", \"SORDO\", \"AUTISMO\")\n",
    "limitacion_categorizadas = {\n",
    "    'LIMITACIÓN': limitaciones,\n",
    "    'SI (Fecuencia Relativa %)': ((data_final[\"ESTU_LIMITA_MOTRIZ\"] == \"SI\").sum(),\n",
    "           (data_final[\"ESTU_LIMITA_INVIDENTE\"] == \"SI\").sum(),\n",
    "          (data_final[\"ESTU_LIMITA_CONDICIONESPECIAL\"] == \"SI\").sum(),\n",
    "          (data_final[\"ESTU_LIMITA_SORDO\"] == \"SI\").sum(),\n",
    "          (data_final[\"ESTU_LIMITA_AUTISMO\"] == \"SI\").sum()),\n",
    "    'NO (Fecuencia Relativa %)': ((data_final[\"ESTU_LIMITA_MOTRIZ\"] == \"NO\").sum(),\n",
    "          (data_final[\"ESTU_LIMITA_INVIDENTE\"] == \"NO\").sum(),\n",
    "          (data_final[\"ESTU_LIMITA_CONDICIONESPECIAL\"] == \"NO\").sum(),\n",
    "          (data_final[\"ESTU_LIMITA_SORDO\"] == \"NO\").sum(),\n",
    "          (data_final[\"ESTU_LIMITA_AUTISMO\"] == \"NO\").sum())\n",
    "}\n",
    "limitacion_categorizadas = pd.DataFrame(limitacion_categorizadas)\n",
    "\n",
    "limitacion_categorizadas[\"SI (Fecuencia Relativa %)\"] = limitacion_categorizadas[\"SI (Fecuencia Relativa %)\"].apply(lambda x: round((x/len(data_final))*100,2))\n",
    "limitacion_categorizadas[\"NO (Fecuencia Relativa %)\"] = limitacion_categorizadas[\"NO (Fecuencia Relativa %)\"].apply(lambda x: round((x/len(data_final))*100,2))\n",
    "\n",
    "limitacion_categorizadas"
   ]
  },
  {
   "cell_type": "code",
   "execution_count": 124,
   "metadata": {},
   "outputs": [
    {
     "data": {
      "image/png": "[encoded data removed]",
      "text/plain": [
       "<Figure size 640x480 with 1 Axes>"
      ]
     },
     "metadata": {},
     "output_type": "display_data"
    }
   ],
   "source": [
    "limitaciones = (\"MOTRIZ\", \"INVIDENTE\", \"CONDICIONESPECIAL\", \"SORDO\", \"AUTISMO\")\n",
    "\n",
    "\n",
    "\n",
    "si_no = {\n",
    "    'SI': tuple(list(limitacion_categorizadas[\"SI (Fecuencia Relativa %)\"])),\n",
    "    'NO': tuple(list(limitacion_categorizadas[\"NO (Fecuencia Relativa %)\"]))\n",
    "}\n",
    "\n",
    "x = np.arange(len(limitaciones)) \n",
    "width = 0.25\n",
    "multiplier = 0\n",
    "\n",
    "fig, ax = plt.subplots(layout='constrained')\n",
    "\n",
    "for attribute, measurement in si_no.items():\n",
    "    offset = width * multiplier\n",
    "    rects = ax.bar(x + offset, measurement, width, label=attribute)\n",
    "    ax.bar_label(rects, padding=3)\n",
    "    multiplier += 1\n",
    "\n",
    "ax.set_ylabel('Frecuencia Absoluta')\n",
    "ax.set_title('Estudiantes con limitaciones')\n",
    "ax.set_xticks(x + width, limitaciones)\n",
    "ax.legend(loc='upper left', ncols=3)\n",
    "ax.set_ylim(0, 130)\n",
    "\n",
    "plt.show()"
   ]
  },
  {
   "cell_type": "markdown",
   "metadata": {},
   "source": [
    "#### Pregunta 8: Puntajes:"
   ]
  },
  {
   "cell_type": "code",
   "execution_count": 140,
   "metadata": {},
   "outputs": [],
   "source": [
    "from scipy.stats import skew, kurtosis\n",
    "def fun_tabla_descriptivas(columnas):\n",
    "    tabla_descriptivas=pd.DataFrame(columnas.describe())\n",
    "    tabla_descriptivas.loc['coef. variation']=columnas.std()/columnas.mean()\n",
    "    tabla_descriptivas.loc['skew']=skew(columnas)\n",
    "    tabla_descriptivas.loc['kurtosis']=kurtosis(columnas)\n",
    "    return tabla_descriptivas"
   ]
  },
  {
   "cell_type": "code",
   "execution_count": 127,
   "metadata": {},
   "outputs": [
    {
     "data": {
      "text/html": [
       "<div>\n",
       "<style scoped>\n",
       "    .dataframe tbody tr th:only-of-type {\n",
       "        vertical-align: middle;\n",
       "    }\n",
       "\n",
       "    .dataframe tbody tr th {\n",
       "        vertical-align: top;\n",
       "    }\n",
       "\n",
       "    .dataframe thead th {\n",
       "        text-align: right;\n",
       "    }\n",
       "</style>\n",
       "<table border=\"1\" class=\"dataframe\">\n",
       "  <thead>\n",
       "    <tr style=\"text-align: right;\">\n",
       "      <th></th>\n",
       "      <th>MOD_RAZONA_CUANTITAT_PUNT</th>\n",
       "      <th>MOD_LECTURA_CRITICA_PUNT</th>\n",
       "      <th>MOD_COMPETEN_CIUDADA_PUNT</th>\n",
       "      <th>MOD_INGLES_PUNT</th>\n",
       "      <th>MOD_COMUNI_ESCRITA_PUNT</th>\n",
       "    </tr>\n",
       "  </thead>\n",
       "  <tbody>\n",
       "    <tr>\n",
       "      <th>0</th>\n",
       "      <td>80</td>\n",
       "      <td>114</td>\n",
       "      <td>100</td>\n",
       "      <td>115</td>\n",
       "      <td>121.0</td>\n",
       "    </tr>\n",
       "    <tr>\n",
       "      <th>1</th>\n",
       "      <td>122</td>\n",
       "      <td>112</td>\n",
       "      <td>100</td>\n",
       "      <td>112</td>\n",
       "      <td>123.0</td>\n",
       "    </tr>\n",
       "    <tr>\n",
       "      <th>2</th>\n",
       "      <td>115</td>\n",
       "      <td>117</td>\n",
       "      <td>123</td>\n",
       "      <td>144</td>\n",
       "      <td>99.0</td>\n",
       "    </tr>\n",
       "    <tr>\n",
       "      <th>3</th>\n",
       "      <td>82</td>\n",
       "      <td>101</td>\n",
       "      <td>85</td>\n",
       "      <td>88</td>\n",
       "      <td>75.0</td>\n",
       "    </tr>\n",
       "    <tr>\n",
       "      <th>4</th>\n",
       "      <td>95</td>\n",
       "      <td>106</td>\n",
       "      <td>84</td>\n",
       "      <td>79</td>\n",
       "      <td>86.0</td>\n",
       "    </tr>\n",
       "    <tr>\n",
       "      <th>...</th>\n",
       "      <td>...</td>\n",
       "      <td>...</td>\n",
       "      <td>...</td>\n",
       "      <td>...</td>\n",
       "      <td>...</td>\n",
       "    </tr>\n",
       "    <tr>\n",
       "      <th>53035</th>\n",
       "      <td>69</td>\n",
       "      <td>54</td>\n",
       "      <td>54</td>\n",
       "      <td>91</td>\n",
       "      <td>104.0</td>\n",
       "    </tr>\n",
       "    <tr>\n",
       "      <th>53036</th>\n",
       "      <td>58</td>\n",
       "      <td>41</td>\n",
       "      <td>65</td>\n",
       "      <td>97</td>\n",
       "      <td>75.0</td>\n",
       "    </tr>\n",
       "    <tr>\n",
       "      <th>53037</th>\n",
       "      <td>106</td>\n",
       "      <td>101</td>\n",
       "      <td>102</td>\n",
       "      <td>88</td>\n",
       "      <td>60.0</td>\n",
       "    </tr>\n",
       "    <tr>\n",
       "      <th>53038</th>\n",
       "      <td>113</td>\n",
       "      <td>110</td>\n",
       "      <td>92</td>\n",
       "      <td>99</td>\n",
       "      <td>122.0</td>\n",
       "    </tr>\n",
       "    <tr>\n",
       "      <th>53039</th>\n",
       "      <td>56</td>\n",
       "      <td>109</td>\n",
       "      <td>128</td>\n",
       "      <td>68</td>\n",
       "      <td>118.0</td>\n",
       "    </tr>\n",
       "  </tbody>\n",
       "</table>\n",
       "<p>52665 rows × 5 columns</p>\n",
       "</div>"
      ],
      "text/plain": [
       "       MOD_RAZONA_CUANTITAT_PUNT  MOD_LECTURA_CRITICA_PUNT  \\\n",
       "0                             80                       114   \n",
       "1                            122                       112   \n",
       "2                            115                       117   \n",
       "3                             82                       101   \n",
       "4                             95                       106   \n",
       "...                          ...                       ...   \n",
       "53035                         69                        54   \n",
       "53036                         58                        41   \n",
       "53037                        106                       101   \n",
       "53038                        113                       110   \n",
       "53039                         56                       109   \n",
       "\n",
       "       MOD_COMPETEN_CIUDADA_PUNT  MOD_INGLES_PUNT  MOD_COMUNI_ESCRITA_PUNT  \n",
       "0                            100              115                    121.0  \n",
       "1                            100              112                    123.0  \n",
       "2                            123              144                     99.0  \n",
       "3                             85               88                     75.0  \n",
       "4                             84               79                     86.0  \n",
       "...                          ...              ...                      ...  \n",
       "53035                         54               91                    104.0  \n",
       "53036                         65               97                     75.0  \n",
       "53037                        102               88                     60.0  \n",
       "53038                         92               99                    122.0  \n",
       "53039                        128               68                    118.0  \n",
       "\n",
       "[52665 rows x 5 columns]"
      ]
     },
     "execution_count": 127,
     "metadata": {},
     "output_type": "execute_result"
    }
   ],
   "source": [
    "#Analisis de los puntajes\n",
    "df_puntajes = data_final[[\"MOD_RAZONA_CUANTITAT_PUNT\", \"MOD_LECTURA_CRITICA_PUNT\", \"MOD_COMPETEN_CIUDADA_PUNT\", \"MOD_INGLES_PUNT\",\"MOD_COMUNI_ESCRITA_PUNT\"]]\n",
    "df_puntajes"
   ]
  },
  {
   "cell_type": "code",
   "execution_count": 141,
   "metadata": {},
   "outputs": [
    {
     "data": {
      "text/html": [
       "<div>\n",
       "<style scoped>\n",
       "    .dataframe tbody tr th:only-of-type {\n",
       "        vertical-align: middle;\n",
       "    }\n",
       "\n",
       "    .dataframe tbody tr th {\n",
       "        vertical-align: top;\n",
       "    }\n",
       "\n",
       "    .dataframe thead th {\n",
       "        text-align: right;\n",
       "    }\n",
       "</style>\n",
       "<table border=\"1\" class=\"dataframe\">\n",
       "  <thead>\n",
       "    <tr style=\"text-align: right;\">\n",
       "      <th></th>\n",
       "      <th>MOD_RAZONA_CUANTITAT_PUNT</th>\n",
       "      <th>MOD_LECTURA_CRITICA_PUNT</th>\n",
       "      <th>MOD_COMPETEN_CIUDADA_PUNT</th>\n",
       "      <th>MOD_INGLES_PUNT</th>\n",
       "      <th>MOD_COMUNI_ESCRITA_PUNT</th>\n",
       "    </tr>\n",
       "  </thead>\n",
       "  <tbody>\n",
       "    <tr>\n",
       "      <th>count</th>\n",
       "      <td>52665.000000</td>\n",
       "      <td>52665.000000</td>\n",
       "      <td>52665.000000</td>\n",
       "      <td>52665.000000</td>\n",
       "      <td>51895.000000</td>\n",
       "    </tr>\n",
       "    <tr>\n",
       "      <th>mean</th>\n",
       "      <td>96.479863</td>\n",
       "      <td>95.800019</td>\n",
       "      <td>97.988759</td>\n",
       "      <td>100.026545</td>\n",
       "      <td>100.039349</td>\n",
       "    </tr>\n",
       "    <tr>\n",
       "      <th>std</th>\n",
       "      <td>21.757795</td>\n",
       "      <td>22.678697</td>\n",
       "      <td>22.223269</td>\n",
       "      <td>21.410427</td>\n",
       "      <td>20.085850</td>\n",
       "    </tr>\n",
       "    <tr>\n",
       "      <th>min</th>\n",
       "      <td>0.000000</td>\n",
       "      <td>0.000000</td>\n",
       "      <td>0.000000</td>\n",
       "      <td>0.000000</td>\n",
       "      <td>49.000000</td>\n",
       "    </tr>\n",
       "    <tr>\n",
       "      <th>25%</th>\n",
       "      <td>81.000000</td>\n",
       "      <td>81.000000</td>\n",
       "      <td>82.000000</td>\n",
       "      <td>85.000000</td>\n",
       "      <td>85.000000</td>\n",
       "    </tr>\n",
       "    <tr>\n",
       "      <th>50%</th>\n",
       "      <td>96.000000</td>\n",
       "      <td>97.000000</td>\n",
       "      <td>99.000000</td>\n",
       "      <td>98.000000</td>\n",
       "      <td>102.000000</td>\n",
       "    </tr>\n",
       "    <tr>\n",
       "      <th>75%</th>\n",
       "      <td>111.000000</td>\n",
       "      <td>112.000000</td>\n",
       "      <td>114.000000</td>\n",
       "      <td>112.000000</td>\n",
       "      <td>115.000000</td>\n",
       "    </tr>\n",
       "    <tr>\n",
       "      <th>max</th>\n",
       "      <td>200.000000</td>\n",
       "      <td>200.000000</td>\n",
       "      <td>200.000000</td>\n",
       "      <td>200.000000</td>\n",
       "      <td>200.000000</td>\n",
       "    </tr>\n",
       "    <tr>\n",
       "      <th>coef. variation</th>\n",
       "      <td>0.225516</td>\n",
       "      <td>0.236730</td>\n",
       "      <td>0.226794</td>\n",
       "      <td>0.214047</td>\n",
       "      <td>0.200779</td>\n",
       "    </tr>\n",
       "    <tr>\n",
       "      <th>skew</th>\n",
       "      <td>0.106675</td>\n",
       "      <td>-0.122348</td>\n",
       "      <td>-0.097387</td>\n",
       "      <td>0.296807</td>\n",
       "      <td>NaN</td>\n",
       "    </tr>\n",
       "    <tr>\n",
       "      <th>kurtosis</th>\n",
       "      <td>-0.207715</td>\n",
       "      <td>-0.190424</td>\n",
       "      <td>-0.312390</td>\n",
       "      <td>1.367280</td>\n",
       "      <td>NaN</td>\n",
       "    </tr>\n",
       "  </tbody>\n",
       "</table>\n",
       "</div>"
      ],
      "text/plain": [
       "                 MOD_RAZONA_CUANTITAT_PUNT  MOD_LECTURA_CRITICA_PUNT  \\\n",
       "count                         52665.000000              52665.000000   \n",
       "mean                             96.479863                 95.800019   \n",
       "std                              21.757795                 22.678697   \n",
       "min                               0.000000                  0.000000   \n",
       "25%                              81.000000                 81.000000   \n",
       "50%                              96.000000                 97.000000   \n",
       "75%                             111.000000                112.000000   \n",
       "max                             200.000000                200.000000   \n",
       "coef. variation                   0.225516                  0.236730   \n",
       "skew                              0.106675                 -0.122348   \n",
       "kurtosis                         -0.207715                 -0.190424   \n",
       "\n",
       "                 MOD_COMPETEN_CIUDADA_PUNT  MOD_INGLES_PUNT  \\\n",
       "count                         52665.000000     52665.000000   \n",
       "mean                             97.988759       100.026545   \n",
       "std                              22.223269        21.410427   \n",
       "min                               0.000000         0.000000   \n",
       "25%                              82.000000        85.000000   \n",
       "50%                              99.000000        98.000000   \n",
       "75%                             114.000000       112.000000   \n",
       "max                             200.000000       200.000000   \n",
       "coef. variation                   0.226794         0.214047   \n",
       "skew                             -0.097387         0.296807   \n",
       "kurtosis                         -0.312390         1.367280   \n",
       "\n",
       "                 MOD_COMUNI_ESCRITA_PUNT  \n",
       "count                       51895.000000  \n",
       "mean                          100.039349  \n",
       "std                            20.085850  \n",
       "min                            49.000000  \n",
       "25%                            85.000000  \n",
       "50%                           102.000000  \n",
       "75%                           115.000000  \n",
       "max                           200.000000  \n",
       "coef. variation                 0.200779  \n",
       "skew                                 NaN  \n",
       "kurtosis                             NaN  "
      ]
     },
     "execution_count": 141,
     "metadata": {},
     "output_type": "execute_result"
    }
   ],
   "source": [
    "fun_tabla_descriptivas(df_puntajes)"
   ]
  },
  {
   "cell_type": "code",
   "execution_count": 137,
   "metadata": {},
   "outputs": [
    {
     "data": {
      "image/png": "[encoded data removed]",
      "text/plain": [
       "<Figure size 1500x500 with 5 Axes>"
      ]
     },
     "metadata": {},
     "output_type": "display_data"
    }
   ],
   "source": [
    "fig, axes = plt.subplots(nrows=1, ncols=5, figsize=(15, 5))\n",
    "\n",
    "# Crear histograma para data1\n",
    "sns.histplot(df_puntajes[\"MOD_RAZONA_CUANTITAT_PUNT\"], kde=True,bins=30, alpha=0.5, color='blue', ax= axes[0])\n",
    "axes[0].set_xlabel('Puntaje')\n",
    "axes[0].set_ylabel('Frecuencia')\n",
    "axes[0].set_title('Puntajes Raz. Cuantitativo')\n",
    "#axes[0].legend()\n",
    "\n",
    "# Crear histograma para data2\n",
    "sns.histplot(df_puntajes[\"MOD_LECTURA_CRITICA_PUNT\"], kde=True,bins=30, alpha=0.5, color='darkgreen', ax=axes[1])\n",
    "axes[1].set_xlabel('Puntaje')\n",
    "axes[1].set_ylabel('Frecuencia')\n",
    "axes[1].set_title('Puntajes Lectura Crítica')\n",
    "#axes[1].legend()\n",
    "\n",
    "# Crear histograma para data3\n",
    "\n",
    "sns.histplot(df_puntajes[\"MOD_COMPETEN_CIUDADA_PUNT\"], kde=True,bins=30, alpha=0.5, color='red', ax=axes[2])\n",
    "axes[2].set_xlabel('Puntaje')\n",
    "axes[2].set_ylabel('Frecuencia')\n",
    "axes[2].set_title('Puntajes Competencias Ciudadanas')\n",
    "#axes[2].legend()\n",
    "\n",
    "# Crear histograma para data4\n",
    "\n",
    "sns.histplot(df_puntajes[\"MOD_INGLES_PUNT\"], kde=True,bins=30, alpha=0.5, color='purple', ax=axes[3])\n",
    "axes[3].set_xlabel('Puntaje')\n",
    "axes[3].set_ylabel('Frecuencia')\n",
    "axes[3].set_title('Puntajes Inglés')\n",
    "#axes[3].legend()\n",
    "\n",
    "# Crear histograma para data5\n",
    "\n",
    "sns.histplot(df_puntajes[\"MOD_COMUNI_ESCRITA_PUNT\"], kde=True,bins=30, alpha=0.5, color='orange', ax=axes[4])\n",
    "axes[4].set_xlabel('Puntaje')\n",
    "axes[4].set_ylabel('Frecuencia')\n",
    "axes[4].set_title('Puntajes Comunicación Escrita')\n",
    "#axes[4].legend()\n",
    "\n",
    "# Ajustar el diseño\n",
    "plt.tight_layout()\n",
    "\n",
    "# Mostrar los gráficos\n",
    "plt.show()"
   ]
  },
  {
   "cell_type": "code",
   "execution_count": 144,
   "metadata": {},
   "outputs": [
    {
     "data": {
      "text/plain": [
       "770"
      ]
     },
     "execution_count": 144,
     "metadata": {},
     "output_type": "execute_result"
    }
   ],
   "source": [
    "data_final[\"MOD_COMUNI_ESCRITA_PUNT\"].isna().sum()"
   ]
  },
  {
   "cell_type": "markdown",
   "metadata": {},
   "source": [
    "\n",
    "\n",
    "#### Puntajes\n",
    "\n",
    "Es interesante ver que los histogramas en general aparentan una distribución normal en todos los puntajes, ubicandose la mayor parte de los estudiantes entre 50-150 puntos, siendo un puntaje promedio regular para la muestra en general, dado que el puntaje máximo es 200. \n",
    "\n",
    "Es llamativo el comportamiento de los puntajes para **\"Comunicación Escrita\"** siendo el modulo donde peor desempeño tienen los estudiantes colombianos, lo cual podría estar relacionado con el nivel de educación ofertada por las instituciones donde dichos estudiantes cumplieron sus tecnicos y tecnologos.\n",
    "\n",
    "1. **PUNTAJE RAZONAMIENTO CUANTITATIVO**\n",
    "La distribución del PUNTAJE RAZONAMIENTO CUANTITATIVO se caracteriza por una tendencia central en torno a una media de 96.47 y una mediana de 96.0, lo cual sugiere que la mayoría de los valores se agrupan alrededor de este valor. La kurtosis calculada tiene un valor de -0.20 revela un acercamiento a la distribución normal pero con colas más pesadas que la distribución normal. El Skew calculado da un valor de 0.10, lo que indica que la distribución tiene un leve sesgo positivo hacia la derecha y un coeficiente de variación de 22.5%, lo que indica que los valores en general son muy homogeneos.\n",
    "2. **PUNTAJE LECTURA CRÍTICA**\n",
    "La distribución del PUNTAJE LECTURA CRÍTICA se caracteriza por una tendencia central en torno a una media de 95.8 y una mediana de 97, lo cual sugiere que la mayoría de los valores se agrupan alrededor de este valor. La kurtosis calculada tiene un valor de -0.19 revela un acercamiento a la distribución normal pero con colas más pesadas que la distribución normal. El Skew calculado da un valor de -0.12, lo que indica que la distribución tiene un leve sesgo negativo hacia la izquierda y un coeficiente de variación de 23.6%, lo que indica homogeneidad de los valores\n",
    "3. **PUNTAJE COMPETENCIAS CIUDADANAS**\n",
    "La distribución del PUNTAJE COMPETENCIAS CIUDADANAS se caracteriza por una tendencia central en torno a una media de 97.98 y una mediana de 99.0, lo cual sugiere que la mayoría de los valores se agrupan alrededor de este valor. La kurtosis calculada tiene un valor de -0.31 revela un acercamiento a la distribución normal pero con colas más pesadas que la distribución normal. El Skew calculado da un valor de -0.09, lo que indica que la distribución no tiene un sesgo significativo y un coeficiente de variación de 22.6%, lo que indica que los valores en general son muy homogeneos.\n",
    "4. **PUNTAJE INGLES**\n",
    "La distribución del PUNTAJE INGLES se caracteriza por una tendencia central en torno a una media de 100 y una mediana de 98.0, lo cual sugiere que la mayoría de los valores se agrupan alrededor de este valor. La kurtosis calculada tiene un valor de 1.36 revela una distribución leptocurtica con colas menos pesadas que la distribución normal. El Skew calculado da un valor de 0.29, lo que indica que la distribución tiene un sesgo positivo hacia la derecha y un coeficiente de variación de 21%.\n",
    "4. **PUNTAJE COMUNICACION ESCRITA**\n",
    "La distribución del PUNTAJE INGLES se caracteriza por una tendencia central en torno a una media de 100 y una mediana de 102.0, lo cual sugiere que la mayoría de los valores se agrupan alrededor de este valor. Esta variable contiene 770 valores faltantes por lo cual los datos calculados de Skew y Kurtosis no se pueden calcular.\n"
   ]
  }
 ],
 "metadata": {
  "kernelspec": {
   "display_name": "base",
   "language": "python",
   "name": "python3"
  },
  "language_info": {
   "codemirror_mode": {
    "name": "ipython",
    "version": 3
   },
   "file_extension": ".py",
   "mimetype": "text/x-python",
   "name": "python",
   "nbconvert_exporter": "python",
   "pygments_lexer": "ipython3",
   "version": "3.11.2"
  },
  "orig_nbformat": 4
 },
 "nbformat": 4,
 "nbformat_minor": 2
}
