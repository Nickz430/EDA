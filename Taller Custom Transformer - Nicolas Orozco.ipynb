{
 "cells": [
  {
   "cell_type": "code",
   "execution_count": 46,
   "metadata": {},
   "outputs": [],
   "source": [
    "import numpy as np\n",
    "import pandas as pd\n",
    "import warnings\n",
    "warnings.filterwarnings('ignore')\n",
    "from sklearn.metrics import mean_squared_error\n",
    "\n",
    "from sklearn.preprocessing import StandardScaler, PowerTransformer\n",
    "from sklearn.compose import TransformedTargetRegressor\n",
    "from sklearn.pipeline import FeatureUnion, Pipeline, make_pipeline\n",
    "from sklearn.base import BaseEstimator, TransformerMixin\n",
    "\n",
    "from sklearn.linear_model import LinearRegression"
   ]
  },
  {
   "cell_type": "code",
   "execution_count": 47,
   "metadata": {},
   "outputs": [],
   "source": [
    "df = pd.DataFrame(columns=['X1', 'X2', 'y'], data=[\n",
    "                                                   [1,16,9],\n",
    "                                                   [4,36,16],\n",
    "                                                   [1,16,9],\n",
    "                                                   [2,9,8],\n",
    "                                                   [3,36,15],\n",
    "                                                   [2,49,16],\n",
    "                                                   [4,25,14],\n",
    "                                                   [5,36,17]\n",
    "])"
   ]
  },
  {
   "cell_type": "code",
   "execution_count": 48,
   "metadata": {},
   "outputs": [],
   "source": [
    "train = df.iloc[:6]\n",
    "test = df.iloc[6:]\n",
    "\n",
    "train_X = train.drop('y', axis=1)\n",
    "train_y = train.y\n",
    "\n",
    "test_X = test.drop('y', axis=1)\n",
    "test_y = test.y"
   ]
  },
  {
   "cell_type": "code",
   "execution_count": 49,
   "metadata": {},
   "outputs": [],
   "source": [
    "class CustomTargetTransformer_Ejercicio(BaseEstimator, TransformerMixin):\n",
    "\n",
    "  def fit(self, target):\n",
    "    return self\n",
    "\n",
    "  def transform(self, target):\n",
    "    print('\\n%%%%%%%%%%%%%%%custom_target_transform() called.\\n')\n",
    "    target_ = target.copy()\n",
    "    target_ = np.sqrt(target_)\n",
    "    return target_\n",
    "\n",
    "  def inverse_transform(self, target):\n",
    "    print('\\n%%%%%%%%%%%%%%%custom_inverse_target_transform() called.\\n')\n",
    "    target_ = target.copy()\n",
    "    target_ = (target_**2) \n",
    "    return target_"
   ]
  },
  {
   "cell_type": "code",
   "execution_count": 50,
   "metadata": {},
   "outputs": [],
   "source": [
    "class ExperimentalTransformer_Ejercicio(BaseEstimator, TransformerMixin):\n",
    "\n",
    "  def __init__(self, feature_name):\n",
    "    print('\\n>>>>>>>init() ExperimentalTransformer_Ejercicio called.\\n')\n",
    "    self.feature_name = feature_name\n",
    "\n",
    "  def fit(self, X, y = None):\n",
    "    print('\\n>>>>>>>fit() called.\\n')\n",
    "    return self\n",
    "\n",
    "  def transform(self, X, y = None):\n",
    "    print('\\n>>>>>>>transform() called.\\n')\n",
    "    X_ = X.copy() # creating a copy to avoid changes to original dataset\n",
    "    X_[self.feature_name] = np.sqrt(X_[self.feature_name])\n",
    "    return X_"
   ]
  },
  {
   "cell_type": "code",
   "execution_count": 51,
   "metadata": {},
   "outputs": [
    {
     "name": "stdout",
     "output_type": "stream",
     "text": [
      "Creación Pipeline_Ejercicio\n",
      "\n",
      ">>>>>>>init() ExperimentalTransformer_Ejercicio called.\n",
      "\n",
      "fit pipeline 5 [fit Model]\n",
      "\n",
      "%%%%%%%%%%%%%%%custom_target_transform() called.\n",
      "\n",
      "\n",
      ">>>>>>>init() ExperimentalTransformer_Ejercicio called.\n",
      "\n",
      "\n",
      ">>>>>>>fit() called.\n",
      "\n",
      "\n",
      ">>>>>>>transform() called.\n",
      "\n",
      "predict via pipeline 5 [Model]\n",
      "\n",
      ">>>>>>>transform() called.\n",
      "\n",
      "\n",
      "%%%%%%%%%%%%%%%custom_inverse_target_transform() called.\n",
      "\n",
      "\n",
      "[13.74406175 17.1432055 ]\n",
      "RMSE: 0.2073791245738714\n",
      "\n"
     ]
    }
   ],
   "source": [
    "# with input transformation & target transformation\n",
    "print(\"Creación Pipeline_Ejercicio\")\n",
    "pipe = Pipeline(steps=[\n",
    "                       ('experimental_trans', ExperimentalTransformer_Ejercicio('X2')),\n",
    "                       ('linear_model', LinearRegression())\n",
    "])\n",
    "\n",
    "model = TransformedTargetRegressor(regressor=pipe,\n",
    "                                   transformer=CustomTargetTransformer_Ejercicio(),\n",
    "                                   check_inverse=False)\n",
    "\n",
    "print(\"fit pipeline 5 [fit Model]\")\n",
    "model.fit(train_X, train_y)\n",
    "print(\"predict via pipeline 5 [Model]\")\n",
    "preds = model.predict(test_X)\n",
    "print(f\"\\n{preds}\")  # should be [196. 289.]\n",
    "print(f\"RMSE: {np.sqrt(mean_squared_error(test_y, preds))}\\n\")"
   ]
  },
  {
   "cell_type": "markdown",
   "metadata": {},
   "source": [
    "Ejemplo con el escalador de la libreria SkLearn"
   ]
  },
  {
   "cell_type": "code",
   "execution_count": 56,
   "metadata": {},
   "outputs": [
    {
     "name": "stdout",
     "output_type": "stream",
     "text": [
      "Fit pipeline [fit Model]\n",
      "Predict via pipeline [Model]\n",
      "\n",
      "[5944.76222675 3060.68832026 2852.84989811]\n",
      "RMSE: 773.2515731830867\n",
      "\n"
     ]
    }
   ],
   "source": [
    "import pandas as pd\n",
    "import numpy as np\n",
    "from sklearn.pipeline import Pipeline\n",
    "from sklearn.preprocessing import StandardScaler, MinMaxScaler\n",
    "from sklearn.model_selection import train_test_split\n",
    "from sklearn.linear_model import LinearRegression\n",
    "from sklearn.metrics import mean_squared_error\n",
    "from sklearn.compose import TransformedTargetRegressor\n",
    "\n",
    "np.random.seed(0)\n",
    "data = {\n",
    "    'x1': np.random.randint(0, 100, 15),\n",
    "    'x2': np.random.randint(0, 100, 15)\n",
    "}\n",
    "df = pd.DataFrame(data)\n",
    "df['y'] = df['x1'] * df['x2']\n",
    "\n",
    "X = df[['x1', 'x2']]\n",
    "y = df['y']\n",
    "\n",
    "Pipe_2 = Pipeline(steps=[('StandardScaler', StandardScaler()),\n",
    "                         ('MinMaxScaler', MinMaxScaler()),\n",
    "                         ('LinearRegression', LinearRegression())])\n",
    "\n",
    "model = TransformedTargetRegressor(regressor=Pipe_2,\n",
    "                                   check_inverse=False)\n",
    "\n",
    "X_train, X_test, y_train, y_test = train_test_split(X, y, test_size=0.2, random_state=42)\n",
    "\n",
    "print(\"Fit pipeline [fit Model]\")\n",
    "model.fit(X_train, y_train)\n",
    "print(\"Predict via pipeline [Model]\")\n",
    "preds = model.predict(X_test)\n",
    "print(f\"\\n{preds}\")\n",
    "print(f\"RMSE: {np.sqrt(mean_squared_error(y_test, preds))}\\n\")\n",
    " \n"
   ]
  },
  {
   "cell_type": "code",
   "execution_count": 57,
   "metadata": {},
   "outputs": [
    {
     "name": "stdout",
     "output_type": "stream",
     "text": [
      "RMSE con Ridge: 773.3035482721302\n",
      "RMSE con regresión polinómica: 1.726643214759939e-12\n"
     ]
    }
   ],
   "source": [
    "from sklearn.linear_model import Ridge\n",
    "from sklearn.preprocessing import PolynomialFeatures\n",
    "from sklearn.metrics import mean_squared_error\n",
    "ridge_model = TransformedTargetRegressor(regressor=Ridge(), check_inverse=False)\n",
    "ridge_model.fit(X_train, y_train)\n",
    "ridge_preds = ridge_model.predict(X_test)\n",
    "ridge_rmse = np.sqrt(mean_squared_error(y_test, ridge_preds))\n",
    "print(f\"RMSE con Ridge: {ridge_rmse}\")\n",
    "\n",
    "# Regresión polinómica de grado 2\n",
    "poly_features = PolynomialFeatures(degree=2)\n",
    "X_train_poly = poly_features.fit_transform(X_train)\n",
    "X_test_poly = poly_features.transform(X_test)\n",
    "poly_model = TransformedTargetRegressor(regressor=LinearRegression(), check_inverse=False)\n",
    "poly_model.fit(X_train_poly, y_train)\n",
    "poly_preds = poly_model.predict(X_test_poly)\n",
    "poly_rmse = np.sqrt(mean_squared_error(y_test, poly_preds))\n",
    "print(f\"RMSE con regresión polinómica: {poly_rmse}\")"
   ]
  }
 ],
 "metadata": {
  "kernelspec": {
   "display_name": "base",
   "language": "python",
   "name": "python3"
  },
  "language_info": {
   "codemirror_mode": {
    "name": "ipython",
    "version": 3
   },
   "file_extension": ".py",
   "mimetype": "text/x-python",
   "name": "python",
   "nbconvert_exporter": "python",
   "pygments_lexer": "ipython3",
   "version": "3.10.9"
  },
  "orig_nbformat": 4
 },
 "nbformat": 4,
 "nbformat_minor": 2
}
